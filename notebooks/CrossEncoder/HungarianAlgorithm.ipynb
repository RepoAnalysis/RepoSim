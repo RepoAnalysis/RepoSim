{
  "cells": [
    {
      "cell_type": "markdown",
      "metadata": {
        "id": "view-in-github",
        "colab_type": "text"
      },
      "source": [
        "<a href=\"https://colab.research.google.com/github/RepoAnalysis/RepoSim/blob/main/notebooks/CrossEncoder/HungarianAlgorithm.ipynb\" target=\"_parent\"><img src=\"https://colab.research.google.com/assets/colab-badge.svg\" alt=\"Open In Colab\"/></a>"
      ]
    },
    {
      "cell_type": "markdown",
      "metadata": {
        "id": "6KAFzXUV1I8B"
      },
      "source": [
        "### Install `inspect4py` using Python 3.9."
      ]
    },
    {
      "cell_type": "code",
      "source": [
        "# Install python 3.9 on colab\n",
        "!sudo apt-get update -y\n",
        "!sudo apt-get install python3.9 python3-pip"
      ],
      "metadata": {
        "id": "qNR2RNe9ExHr"
      },
      "execution_count": null,
      "outputs": []
    },
    {
      "cell_type": "code",
      "execution_count": null,
      "metadata": {
        "id": "HRbme9xOy5PQ"
      },
      "outputs": [],
      "source": [
        "# Install inspect4py\n",
        "!git clone https://github.com/SoftwareUnderstanding/inspect4py.git\n",
        "%cd inspect4py\n",
        "!git checkout dev\n",
        "!python3.9 -m pip install -r requirements.txt && python3.9 setup.py install\n",
        "%cd /content/"
      ]
    },
    {
      "cell_type": "code",
      "source": [
        "!inspect4py --version"
      ],
      "metadata": {
        "id": "4MJYG4eWG0pQ",
        "colab": {
          "base_uri": "https://localhost:8080/"
        },
        "outputId": "725f73e1-76bf-4fac-d2f1-99841e8646a9"
      },
      "execution_count": null,
      "outputs": [
        {
          "output_type": "stream",
          "name": "stdout",
          "text": [
            "inspect4py, version 0.0.6\n"
          ]
        }
      ]
    },
    {
      "cell_type": "markdown",
      "metadata": {
        "id": "Eh1yfA0-Dt-f"
      },
      "source": [
        "### Download test repositories and run inspect4py on them"
      ]
    },
    {
      "cell_type": "code",
      "execution_count": null,
      "metadata": {
        "id": "EFwDoJdJv59i"
      },
      "outputs": [],
      "source": [
        "REPOS =[\n",
        "    \"keon/algorithms\", \n",
        "    \"TheAlgorithms/Python\"\n",
        "]"
      ]
    },
    {
      "cell_type": "code",
      "source": [
        "!mkdir -p /content/output\n",
        "%cd /content/\n",
        "for repo in REPOS:\n",
        "    !mkdir -p {repo} && git clone {f\"https://github.com/{repo}.git\"} {repo}\n",
        "    !inspect4py -i /content/{repo} -o /content/output/{repo} -sc -rm"
      ],
      "metadata": {
        "id": "JOi6Ojhu8uCY"
      },
      "execution_count": null,
      "outputs": []
    },
    {
      "cell_type": "markdown",
      "source": [
        "### Extract docstrings and functions from repositories."
      ],
      "metadata": {
        "id": "tXCNJRtRKQXP"
      }
    },
    {
      "cell_type": "code",
      "execution_count": null,
      "metadata": {
        "id": "cN_hFrIov59k"
      },
      "outputs": [],
      "source": [
        "import json\n",
        "\n",
        "def funcs_to_lists(funcs, func_codes, docs):\n",
        "    for func_name, func_info in funcs.items():\n",
        "        if func_info.get(\"source_code\") is not None:\n",
        "            func_codes.append(func_info[\"source_code\"])\n",
        "        if func_info.get(\"doc\") is None:\n",
        "            continue\n",
        "        for key in [\"full\", \"long_description\", \"short_description\"]:\n",
        "            if func_info[\"doc\"].get(key) is not None:\n",
        "                docs.append(f\"{func_name} {func_info['doc'].get(key)}\")\n",
        "                break\n",
        "\n",
        "\n",
        "def file_to_lists(filename):\n",
        "    func_codes = []\n",
        "    docs = []\n",
        "    with open(filename, \"r\") as f:\n",
        "        dic = json.load(f)\n",
        "    dic.pop(\"readme_files\", None)\n",
        "    for dir_name, files in dic.items():\n",
        "        for file in files:\n",
        "            if file.get(\"functions\") is not None:\n",
        "                funcs_to_lists(file[\"functions\"], func_codes, docs)\n",
        "            # if file.get(\"classes\") is not None:\n",
        "            #     for class_name, class_info in file[\"classes\"].items():\n",
        "            #         if class_info.get(\"methods\") is not None:\n",
        "            #             funcs_to_lists(class_info[\"methods\"], func_codes, docs)\n",
        "\n",
        "    return func_codes, docs\n"
      ]
    },
    {
      "cell_type": "code",
      "source": [
        "repo_info = {}\n",
        "for repo in REPOS:\n",
        "    repo_info[repo] = {}\n",
        "\n",
        "    function_list, docstring_list = file_to_lists(f\"/content/output/{repo}/directory_info.json\")\n",
        "    repo_info[repo][\"docs\"] = docstring_list\n",
        "    repo_info[repo][\"funcs\"] = function_list"
      ],
      "metadata": {
        "id": "zw0cKz1nKXE1"
      },
      "execution_count": null,
      "outputs": []
    },
    {
      "cell_type": "markdown",
      "metadata": {
        "id": "pn4Lhgu8Fsu2"
      },
      "source": [
        "### Download PythonCloneDetection and install requirements"
      ]
    },
    {
      "cell_type": "code",
      "execution_count": null,
      "metadata": {
        "id": "gTfLuhIWeeWg"
      },
      "outputs": [],
      "source": [
        "!git clone https://github.com/RepoAnalysis/PythonCloneDetection\n",
        "!pip install -r PythonCloneDetection/requirements.txt\n",
        "!pip install -U sentence-transformers"
      ]
    },
    {
      "cell_type": "markdown",
      "source": [
        "### Inference similarity scores for all code/doc pairs and apply hungarian algorithm"
      ],
      "metadata": {
        "id": "SUfdJtUWwXGP"
      }
    },
    {
      "cell_type": "code",
      "execution_count": null,
      "metadata": {
        "id": "A4qmcJVhfECQ",
        "colab": {
          "base_uri": "https://localhost:8080/"
        },
        "outputId": "6bae2aea-96a6-4469-95f0-f57ba14cd05b"
      },
      "outputs": [
        {
          "output_type": "stream",
          "name": "stdout",
          "text": [
            "/content/PythonCloneDetection\n"
          ]
        }
      ],
      "source": [
        "%cd PythonCloneDetection\n",
        "\n",
        "import torch\n",
        "import pandas as pd\n",
        "import itertools as it\n",
        "\n",
        "from scipy.optimize import linear_sum_assignment\n",
        "from sentence_transformers import SentenceTransformer, util\n",
        "\n",
        "from clone_classifier import CloneClassifier\n",
        "\n",
        "\n",
        "def list_similarity(l1, l2, list_type):\n",
        "    if not l1 or not l2:\n",
        "        return\n",
        "\n",
        "    if list_type == \"code\":\n",
        "        # initialize the clone classifier\n",
        "        clone_classifier = CloneClassifier(fp16=True)\n",
        "\n",
        "        # calculate the similarity scores of all pairs of functions\n",
        "        df = pd.DataFrame(it.product(l1, l2), columns=[\"code1\", \"code2\"])\n",
        "        output_df = clone_classifier.predict(df, return_score=True)\n",
        "\n",
        "        # reshape two sets of functions into a matrix of similarity scores\n",
        "        cost_matrix = output_df.pivot_table(\n",
        "            index=\"code1\", columns=\"code2\", values=\"score\"\n",
        "        )\n",
        "    elif list_type == \"docs\":\n",
        "        # calculate the similarity scores of all pairs of docstrings\n",
        "        model = SentenceTransformer(\"paraphrase-multilingual-mpnet-base-v2\")\n",
        "        embeddings1 = model.encode(l1, convert_to_tensor=True)\n",
        "        embeddings2 = model.encode(l2, convert_to_tensor=True)\n",
        "\n",
        "        cosine_scores = util.cos_sim(embeddings1, embeddings2).cpu().numpy()\n",
        "        cost_matrix = pd.DataFrame(cosine_scores, index=l1, columns=l2)\n",
        "    else:\n",
        "        return\n",
        "\n",
        "    # apply hungarian algorithm\n",
        "    row_ind, col_ind = linear_sum_assignment(cost_matrix, maximize=True)\n",
        "\n",
        "    # retrieve the best matches and their similarity scores\n",
        "    max_scores = cost_matrix.values[row_ind, col_ind]\n",
        "    max_l1 = cost_matrix.index[row_ind]\n",
        "    max_l2 = cost_matrix.columns[col_ind]\n",
        "    if list_type == \"code\":\n",
        "        max_df = pd.DataFrame({\"code1\": max_l1, \"code2\": max_l2})\n",
        "    else:\n",
        "        max_df = pd.DataFrame({\"doc1\": max_l1, \"doc2\": max_l2})\n",
        "    max_df[\"score\"] = max_scores\n",
        "\n",
        "    return max_df"
      ]
    },
    {
      "cell_type": "markdown",
      "source": [
        "### Assignments based on docstring comparison"
      ],
      "metadata": {
        "id": "fmBHl4lGzE2d"
      }
    },
    {
      "cell_type": "code",
      "execution_count": null,
      "metadata": {
        "id": "bEI6NXaWH5K3"
      },
      "outputs": [],
      "source": [
        "with torch.no_grad():\n",
        "    docs_df = list_similarity(repo_info[\"keon/algorithms\"][\"docs\"], repo_info[\"TheAlgorithms/Python\"][\"docs\"], \"docs\")"
      ]
    },
    {
      "cell_type": "code",
      "source": [
        "docs_df.sort_values(\"score\", ascending=False).reset_index(drop=True)"
      ],
      "metadata": {
        "colab": {
          "base_uri": "https://localhost:8080/",
          "height": 419
        },
        "id": "NvHcM4lwzCFQ",
        "outputId": "def1a3f8-2496-4dc5-fd7e-37d38285a30f"
      },
      "execution_count": null,
      "outputs": [
        {
          "output_type": "execute_result",
          "data": {
            "text/plain": [
              "                                                  doc1  \\\n",
              "0    find_factorial Calculates the factorial of a g...   \n",
              "1    cosine_similarity Calculate cosine similarity ...   \n",
              "2                      dfs Function that performs DFS    \n",
              "3    decimal_to_binary_util Convert 8-bit decimal n...   \n",
              "4    pancake_sort Sorting a given array\\nmutation o...   \n",
              "..                                                 ...   \n",
              "211  alice_public_key with her private key.\\nThis i...   \n",
              "212  dinic_bfs Check whether sink is reachable only...   \n",
              "213  hailstone n: The starting point of the hailsto...   \n",
              "214  alice_shared_key with her private key and Bob'...   \n",
              "215  pythagoras Passing \"?\" will indicate the unkno...   \n",
              "\n",
              "                                                  doc2     score  \n",
              "0     factorial Find the factorial of a given number n  0.932496  \n",
              "1    cosine_similarity Calculates cosine similarity...  0.927878  \n",
              "2                                    dfs DFS traversal  0.864706  \n",
              "3                      decimal_to_binary ['0.00.01.5']  0.852933  \n",
              "4           pancake_sort Sort Array with Pancake Sort.  0.782438  \n",
              "..                                                 ...       ...  \n",
              "211  try_key If the decrypted message contains a in...  0.423209  \n",
              "212                                check ['0.00.01.5']  0.419797  \n",
              "213  peak >>> peak([1, 2, 3, 4, 5, 4, 3, 2, 1])\\n5\\...  0.418473  \n",
              "214  dencrypt >>> msg = \"My secret bank account num...  0.408872  \n",
              "215  pythagorean_triple and value as the number of ...  0.401738  \n",
              "\n",
              "[216 rows x 3 columns]"
            ],
            "text/html": [
              "\n",
              "  <div id=\"df-c068a150-9664-4280-808b-b0f9f6fd137f\">\n",
              "    <div class=\"colab-df-container\">\n",
              "      <div>\n",
              "<style scoped>\n",
              "    .dataframe tbody tr th:only-of-type {\n",
              "        vertical-align: middle;\n",
              "    }\n",
              "\n",
              "    .dataframe tbody tr th {\n",
              "        vertical-align: top;\n",
              "    }\n",
              "\n",
              "    .dataframe thead th {\n",
              "        text-align: right;\n",
              "    }\n",
              "</style>\n",
              "<table border=\"1\" class=\"dataframe\">\n",
              "  <thead>\n",
              "    <tr style=\"text-align: right;\">\n",
              "      <th></th>\n",
              "      <th>doc1</th>\n",
              "      <th>doc2</th>\n",
              "      <th>score</th>\n",
              "    </tr>\n",
              "  </thead>\n",
              "  <tbody>\n",
              "    <tr>\n",
              "      <th>0</th>\n",
              "      <td>find_factorial Calculates the factorial of a g...</td>\n",
              "      <td>factorial Find the factorial of a given number n</td>\n",
              "      <td>0.932496</td>\n",
              "    </tr>\n",
              "    <tr>\n",
              "      <th>1</th>\n",
              "      <td>cosine_similarity Calculate cosine similarity ...</td>\n",
              "      <td>cosine_similarity Calculates cosine similarity...</td>\n",
              "      <td>0.927878</td>\n",
              "    </tr>\n",
              "    <tr>\n",
              "      <th>2</th>\n",
              "      <td>dfs Function that performs DFS</td>\n",
              "      <td>dfs DFS traversal</td>\n",
              "      <td>0.864706</td>\n",
              "    </tr>\n",
              "    <tr>\n",
              "      <th>3</th>\n",
              "      <td>decimal_to_binary_util Convert 8-bit decimal n...</td>\n",
              "      <td>decimal_to_binary ['0.00.01.5']</td>\n",
              "      <td>0.852933</td>\n",
              "    </tr>\n",
              "    <tr>\n",
              "      <th>4</th>\n",
              "      <td>pancake_sort Sorting a given array\\nmutation o...</td>\n",
              "      <td>pancake_sort Sort Array with Pancake Sort.</td>\n",
              "      <td>0.782438</td>\n",
              "    </tr>\n",
              "    <tr>\n",
              "      <th>...</th>\n",
              "      <td>...</td>\n",
              "      <td>...</td>\n",
              "      <td>...</td>\n",
              "    </tr>\n",
              "    <tr>\n",
              "      <th>211</th>\n",
              "      <td>alice_public_key with her private key.\\nThis i...</td>\n",
              "      <td>try_key If the decrypted message contains a in...</td>\n",
              "      <td>0.423209</td>\n",
              "    </tr>\n",
              "    <tr>\n",
              "      <th>212</th>\n",
              "      <td>dinic_bfs Check whether sink is reachable only...</td>\n",
              "      <td>check ['0.00.01.5']</td>\n",
              "      <td>0.419797</td>\n",
              "    </tr>\n",
              "    <tr>\n",
              "      <th>213</th>\n",
              "      <td>hailstone n: The starting point of the hailsto...</td>\n",
              "      <td>peak &gt;&gt;&gt; peak([1, 2, 3, 4, 5, 4, 3, 2, 1])\\n5\\...</td>\n",
              "      <td>0.418473</td>\n",
              "    </tr>\n",
              "    <tr>\n",
              "      <th>214</th>\n",
              "      <td>alice_shared_key with her private key and Bob'...</td>\n",
              "      <td>dencrypt &gt;&gt;&gt; msg = \"My secret bank account num...</td>\n",
              "      <td>0.408872</td>\n",
              "    </tr>\n",
              "    <tr>\n",
              "      <th>215</th>\n",
              "      <td>pythagoras Passing \"?\" will indicate the unkno...</td>\n",
              "      <td>pythagorean_triple and value as the number of ...</td>\n",
              "      <td>0.401738</td>\n",
              "    </tr>\n",
              "  </tbody>\n",
              "</table>\n",
              "<p>216 rows × 3 columns</p>\n",
              "</div>\n",
              "      <button class=\"colab-df-convert\" onclick=\"convertToInteractive('df-c068a150-9664-4280-808b-b0f9f6fd137f')\"\n",
              "              title=\"Convert this dataframe to an interactive table.\"\n",
              "              style=\"display:none;\">\n",
              "        \n",
              "  <svg xmlns=\"http://www.w3.org/2000/svg\" height=\"24px\"viewBox=\"0 0 24 24\"\n",
              "       width=\"24px\">\n",
              "    <path d=\"M0 0h24v24H0V0z\" fill=\"none\"/>\n",
              "    <path d=\"M18.56 5.44l.94 2.06.94-2.06 2.06-.94-2.06-.94-.94-2.06-.94 2.06-2.06.94zm-11 1L8.5 8.5l.94-2.06 2.06-.94-2.06-.94L8.5 2.5l-.94 2.06-2.06.94zm10 10l.94 2.06.94-2.06 2.06-.94-2.06-.94-.94-2.06-.94 2.06-2.06.94z\"/><path d=\"M17.41 7.96l-1.37-1.37c-.4-.4-.92-.59-1.43-.59-.52 0-1.04.2-1.43.59L10.3 9.45l-7.72 7.72c-.78.78-.78 2.05 0 2.83L4 21.41c.39.39.9.59 1.41.59.51 0 1.02-.2 1.41-.59l7.78-7.78 2.81-2.81c.8-.78.8-2.07 0-2.86zM5.41 20L4 18.59l7.72-7.72 1.47 1.35L5.41 20z\"/>\n",
              "  </svg>\n",
              "      </button>\n",
              "      \n",
              "  <style>\n",
              "    .colab-df-container {\n",
              "      display:flex;\n",
              "      flex-wrap:wrap;\n",
              "      gap: 12px;\n",
              "    }\n",
              "\n",
              "    .colab-df-convert {\n",
              "      background-color: #E8F0FE;\n",
              "      border: none;\n",
              "      border-radius: 50%;\n",
              "      cursor: pointer;\n",
              "      display: none;\n",
              "      fill: #1967D2;\n",
              "      height: 32px;\n",
              "      padding: 0 0 0 0;\n",
              "      width: 32px;\n",
              "    }\n",
              "\n",
              "    .colab-df-convert:hover {\n",
              "      background-color: #E2EBFA;\n",
              "      box-shadow: 0px 1px 2px rgba(60, 64, 67, 0.3), 0px 1px 3px 1px rgba(60, 64, 67, 0.15);\n",
              "      fill: #174EA6;\n",
              "    }\n",
              "\n",
              "    [theme=dark] .colab-df-convert {\n",
              "      background-color: #3B4455;\n",
              "      fill: #D2E3FC;\n",
              "    }\n",
              "\n",
              "    [theme=dark] .colab-df-convert:hover {\n",
              "      background-color: #434B5C;\n",
              "      box-shadow: 0px 1px 3px 1px rgba(0, 0, 0, 0.15);\n",
              "      filter: drop-shadow(0px 1px 2px rgba(0, 0, 0, 0.3));\n",
              "      fill: #FFFFFF;\n",
              "    }\n",
              "  </style>\n",
              "\n",
              "      <script>\n",
              "        const buttonEl =\n",
              "          document.querySelector('#df-c068a150-9664-4280-808b-b0f9f6fd137f button.colab-df-convert');\n",
              "        buttonEl.style.display =\n",
              "          google.colab.kernel.accessAllowed ? 'block' : 'none';\n",
              "\n",
              "        async function convertToInteractive(key) {\n",
              "          const element = document.querySelector('#df-c068a150-9664-4280-808b-b0f9f6fd137f');\n",
              "          const dataTable =\n",
              "            await google.colab.kernel.invokeFunction('convertToInteractive',\n",
              "                                                     [key], {});\n",
              "          if (!dataTable) return;\n",
              "\n",
              "          const docLinkHtml = 'Like what you see? Visit the ' +\n",
              "            '<a target=\"_blank\" href=https://colab.research.google.com/notebooks/data_table.ipynb>data table notebook</a>'\n",
              "            + ' to learn more about interactive tables.';\n",
              "          element.innerHTML = '';\n",
              "          dataTable['output_type'] = 'display_data';\n",
              "          await google.colab.output.renderOutput(dataTable, element);\n",
              "          const docLink = document.createElement('div');\n",
              "          docLink.innerHTML = docLinkHtml;\n",
              "          element.appendChild(docLink);\n",
              "        }\n",
              "      </script>\n",
              "    </div>\n",
              "  </div>\n",
              "  "
            ]
          },
          "metadata": {},
          "execution_count": 11
        }
      ]
    },
    {
      "cell_type": "markdown",
      "source": [
        "### Assignments based on code comparison"
      ],
      "metadata": {
        "id": "dIBxSR5309cf"
      }
    },
    {
      "cell_type": "code",
      "source": [
        "# As the algorithm is inefficient, it takes too long to run the below code on colab\n",
        "# with torch.no_grad():\n",
        "    # code_df = list_similarity(repo_info[\"keon/algorithms\"][\"funcs\"], repo_info[\"TheAlgorithms/Python\"][\"funcs\"], \"code\")"
      ],
      "metadata": {
        "id": "VZz_SDaIzCkv"
      },
      "execution_count": null,
      "outputs": []
    },
    {
      "cell_type": "markdown",
      "source": [
        "#### The assignment result based on code and docs comparison is generated on a GPU server and uploaded on https://github.com/RepoAnalysis/RepoSim/blob/main/notebooks/CrossEncoder/keonalgorithms-TheAlgorithmsPython.csv\n"
      ],
      "metadata": {
        "id": "pwQ4YPYG78Sl"
      }
    }
  ],
  "metadata": {
    "colab": {
      "provenance": [],
      "authorship_tag": "ABX9TyMiPz6Sd5P1c5dQ9GHZnZEv",
      "include_colab_link": true
    },
    "gpuClass": "standard",
    "kernelspec": {
      "display_name": "Python 3",
      "name": "python3"
    },
    "language_info": {
      "name": "python"
    },
    "accelerator": "GPU"
  },
  "nbformat": 4,
  "nbformat_minor": 0
}