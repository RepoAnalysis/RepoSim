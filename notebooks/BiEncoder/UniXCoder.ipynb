{
  "cells": [
    {
      "cell_type": "markdown",
      "metadata": {
        "id": "view-in-github",
        "colab_type": "text"
      },
      "source": [
        "<a href=\"https://colab.research.google.com/github/RepoAnalysis/RepoSim/blob/main/notebooks/BiEncoder/UniXCoder.ipynb\" target=\"_parent\"><img src=\"https://colab.research.google.com/assets/colab-badge.svg\" alt=\"Open In Colab\"/></a>"
      ]
    },
    {
      "cell_type": "markdown",
      "metadata": {
        "id": "6KAFzXUV1I8B"
      },
      "source": [
        "### Install `inspect4py` using Python 3.9"
      ]
    },
    {
      "cell_type": "code",
      "execution_count": null,
      "metadata": {
        "id": "qNR2RNe9ExHr"
      },
      "outputs": [],
      "source": [
        "# Install python 3.9 on colab\n",
        "!sudo apt-get update -y\n",
        "!sudo apt-get install python3.9 python3-pip\n",
        "\n",
        "# Install inspect4py\n",
        "!python3.9 -m pip install -U inspect4py==0.0.6"
      ]
    },
    {
      "cell_type": "code",
      "execution_count": null,
      "metadata": {
        "colab": {
          "base_uri": "https://localhost:8080/"
        },
        "id": "4MJYG4eWG0pQ",
        "outputId": "576b9685-1e3d-4f4f-bc88-af2ed8054644"
      },
      "outputs": [
        {
          "output_type": "stream",
          "name": "stdout",
          "text": [
            "inspect4py, version 0.0.6\n"
          ]
        }
      ],
      "source": [
        "!inspect4py --version"
      ]
    },
    {
      "cell_type": "markdown",
      "metadata": {
        "id": "Eh1yfA0-Dt-f"
      },
      "source": [
        "### Download test repositories and run `inspect4py` on them"
      ]
    },
    {
      "cell_type": "code",
      "execution_count": null,
      "metadata": {
        "id": "_G--A3sT61LR"
      },
      "outputs": [],
      "source": [
        "# Repo-topic pairs are generated from \n",
        "# https://github.com/RepoAnalysis/RepoSim/blob/main/data/repo_topic.py\n",
        "REPOS = {\n",
        "    'keon/algorithms': 'Algorithms',\n",
        "    'prabhupant/python-ds': 'Algorithms',\n",
        "    'grantjenks/python-sortedcontainers': 'Algorithms',\n",
        "    'TheAlgorithms/Python': 'Algorithms',\n",
        "    'beetbox/audioread': 'Audio',\n",
        "    'worldveil/dejavu': 'Audio',\n",
        "    'keunwoochoi/kapre': 'Audio',\n",
        "    'librosa/librosa': 'Audio',\n",
        "    'sergree/matchering': 'Audio',\n",
        "    'tyiannak/pyAudioAnalysis': 'Audio',\n",
        "    'jiaaro/pydub': 'Audio',\n",
        "    'Parisson/TimeSide': 'Audio',\n",
        "    'lepture/authlib': 'OAuth',\n",
        "    'pennersr/django-allauth': 'OAuth',\n",
        "    'evonove/django-oauth-toolkit': 'OAuth',\n",
        "    'idan/oauthlib': 'OAuth',\n",
        "    'joestump/python-oauth2': 'OAuth',\n",
        "    'omab/python-social-auth': 'OAuth',\n",
        "    'paramiko/paramiko': 'Cryptography',\n",
        "    'pyca/pynacl': 'Cryptography',\n",
        "    'jindaxiang/akshare': 'Downloader',\n",
        "    's3tools/s3cmd': 'Downloader',\n",
        "    'bloomreach/s4cmd': 'Downloader',\n",
        "    'euske/pdfminer': 'PDF',\n",
        "    'mstamy2/PyPDF2': 'PDF',\n",
        "    'lepture/mistune': 'Markdown',\n",
        "    'waylan/Python-Markdown': 'Markdown'\n",
        "}"
      ]
    },
    {
      "cell_type": "code",
      "execution_count": null,
      "metadata": {
        "id": "JOi6Ojhu8uCY"
      },
      "outputs": [],
      "source": [
        "!mkdir -p /content/output\n",
        "%cd /content/\n",
        "for repo in REPOS:\n",
        "    !mkdir -p {repo} && git clone {f\"https://github.com/{repo}.git\"} {repo}\n",
        "    !inspect4py -i /content/{repo} -o /content/output/{repo} -sc -rm"
      ]
    },
    {
      "cell_type": "markdown",
      "metadata": {
        "id": "tXCNJRtRKQXP"
      },
      "source": [
        "### Extract docstrings and functions from repositories."
      ]
    },
    {
      "cell_type": "code",
      "execution_count": null,
      "metadata": {
        "id": "F-89vQxSFR4s"
      },
      "outputs": [],
      "source": [
        "import json\n",
        "\n",
        "def funcs_to_lists(funcs, func_codes, docs):\n",
        "    for func_name, func_info in funcs.items():\n",
        "        if func_info.get(\"source_code\") is not None:\n",
        "            func_codes.append(func_info[\"source_code\"])\n",
        "        if func_info.get(\"doc\") is None:\n",
        "            continue\n",
        "        for key in [\"full\", \"long_description\", \"short_description\"]:\n",
        "            if func_info[\"doc\"].get(key) is not None:\n",
        "                docs.append(f\"{func_name} {func_info['doc'].get(key)}\")\n",
        "                break\n",
        "\n",
        "\n",
        "def file_to_lists(filename):\n",
        "    func_codes = []\n",
        "    docs = []\n",
        "    with open(filename, \"r\") as f:\n",
        "        dic = json.load(f)\n",
        "    dic.pop(\"readme_files\", None)\n",
        "    for dir_name, files in dic.items():\n",
        "        for file in files:\n",
        "            if file.get(\"functions\") is not None:\n",
        "                funcs_to_lists(file[\"functions\"], func_codes, docs)\n",
        "            if file.get(\"classes\") is not None:\n",
        "                for class_name, class_info in file[\"classes\"].items():\n",
        "                    if class_info.get(\"methods\") is not None:\n",
        "                        funcs_to_lists(class_info[\"methods\"], func_codes, docs)\n",
        "\n",
        "    return func_codes, docs\n"
      ]
    },
    {
      "cell_type": "code",
      "execution_count": null,
      "metadata": {
        "id": "zw0cKz1nKXE1"
      },
      "outputs": [],
      "source": [
        "repo_info = {}\n",
        "for repo, topic in REPOS.items():\n",
        "    repo_info[repo] = {}\n",
        "\n",
        "    function_list, docstring_list = file_to_lists(f\"/content/output/{repo}/directory_info.json\")\n",
        "    repo_info[repo][\"docs\"] = docstring_list\n",
        "    repo_info[repo][\"funcs\"] = function_list\n",
        "    repo_info[repo][\"topic\"] = topic"
      ]
    },
    {
      "cell_type": "markdown",
      "metadata": {
        "id": "FdvlATGULNoX"
      },
      "source": [
        "### Download UniXCoder, fine-tuned model and install requirements"
      ]
    },
    {
      "cell_type": "code",
      "execution_count": null,
      "metadata": {
        "id": "UoFGZj12LS-p"
      },
      "outputs": [],
      "source": [
        "%cd /content/\n",
        "%pip install -U sentence-transformers\n",
        "!wget https://raw.githubusercontent.com/microsoft/CodeBERT/master/UniXcoder/unixcoder.py"
      ]
    },
    {
      "cell_type": "markdown",
      "metadata": {
        "id": "hFbvNb3aMkJT"
      },
      "source": [
        "### Generate embeddings for all repositories"
      ]
    },
    {
      "cell_type": "code",
      "execution_count": null,
      "metadata": {
        "id": "DrW-OrzpLL7F"
      },
      "outputs": [],
      "source": [
        "import torch\n",
        "from unixcoder import UniXcoder\n",
        "from transformers import RobertaModel\n",
        "from sentence_transformers import SentenceTransformer\n",
        "\n",
        "device = torch.device(\"cuda\" if torch.cuda.is_available() else \"cpu\")\n",
        "doc_model = SentenceTransformer(\"paraphrase-multilingual-mpnet-base-v2\", device=device)\n",
        "code_model = UniXcoder(\"Lazyhope/unixcoder-nine-advtest\")\n",
        "code_model.to(device)\n",
        "\n",
        "def get_code_embeddings(code):\n",
        "    tokens_ids = code_model.tokenize([code], max_length=512, mode=\"<encoder-only>\")\n",
        "    source_ids = torch.tensor(tokens_ids).to(device)\n",
        "    _, embeddings = code_model(source_ids)\n",
        "\n",
        "    return embeddings\n",
        "\n",
        "def get_repo_embeddings(lst, input_type):\n",
        "    if not lst:\n",
        "        return None\n",
        "    with torch.no_grad():\n",
        "        if input_type == \"code\":\n",
        "            embeddings_list = torch.concat([get_code_embeddings(code) for code in lst])\n",
        "        elif input_type == \"doc\":\n",
        "            embeddings_list = doc_model.encode(lst, convert_to_tensor=True)\n",
        "    \n",
        "        mean_embeddings = torch.mean(embeddings_list, axis=0)\n",
        "\n",
        "    return mean_embeddings"
      ]
    },
    {
      "cell_type": "code",
      "execution_count": null,
      "metadata": {
        "colab": {
          "base_uri": "https://localhost:8080/"
        },
        "id": "a2fVESKCIBLn",
        "outputId": "504652d1-eadb-46b7-b760-fa188be0dae4"
      },
      "outputs": [
        {
          "output_type": "stream",
          "name": "stderr",
          "text": [
            "\r  0%|          | 0/27 [00:00<?, ?it/s]"
          ]
        },
        {
          "output_type": "stream",
          "name": "stdout",
          "text": [
            " - Generating embeddings for keon/algorithms - \n"
          ]
        },
        {
          "output_type": "stream",
          "name": "stderr",
          "text": [
            "\r  4%|▎         | 1/27 [00:27<11:59, 27.69s/it]"
          ]
        },
        {
          "output_type": "stream",
          "name": "stdout",
          "text": [
            " - Generating embeddings for prabhupant/python-ds - \n"
          ]
        },
        {
          "output_type": "stream",
          "name": "stderr",
          "text": [
            "\r  7%|▋         | 2/27 [00:33<06:17, 15.11s/it]"
          ]
        },
        {
          "output_type": "stream",
          "name": "stdout",
          "text": [
            " - Generating embeddings for grantjenks/python-sortedcontainers - \n"
          ]
        },
        {
          "output_type": "stream",
          "name": "stderr",
          "text": [
            "\r 11%|█         | 3/27 [00:42<04:53, 12.25s/it]"
          ]
        },
        {
          "output_type": "stream",
          "name": "stdout",
          "text": [
            " - Generating embeddings for TheAlgorithms/Python - \n"
          ]
        },
        {
          "output_type": "stream",
          "name": "stderr",
          "text": [
            "\r 15%|█▍        | 4/27 [01:38<11:14, 29.34s/it]"
          ]
        },
        {
          "output_type": "stream",
          "name": "stdout",
          "text": [
            " - Generating embeddings for beetbox/audioread - \n"
          ]
        },
        {
          "output_type": "stream",
          "name": "stderr",
          "text": [
            "\r 19%|█▊        | 5/27 [01:39<07:00, 19.13s/it]"
          ]
        },
        {
          "output_type": "stream",
          "name": "stdout",
          "text": [
            " - Generating embeddings for worldveil/dejavu - \n"
          ]
        },
        {
          "output_type": "stream",
          "name": "stderr",
          "text": [
            "\r 22%|██▏       | 6/27 [01:41<04:40, 13.36s/it]"
          ]
        },
        {
          "output_type": "stream",
          "name": "stdout",
          "text": [
            " - Generating embeddings for keunwoochoi/kapre - \n"
          ]
        },
        {
          "output_type": "stream",
          "name": "stderr",
          "text": [
            "\r 26%|██▌       | 7/27 [01:43<03:14,  9.71s/it]"
          ]
        },
        {
          "output_type": "stream",
          "name": "stdout",
          "text": [
            " - Generating embeddings for librosa/librosa - \n"
          ]
        },
        {
          "output_type": "stream",
          "name": "stderr",
          "text": [
            "\r 30%|██▉       | 8/27 [02:02<03:56, 12.43s/it]"
          ]
        },
        {
          "output_type": "stream",
          "name": "stdout",
          "text": [
            " - Generating embeddings for sergree/matchering - \n"
          ]
        },
        {
          "output_type": "stream",
          "name": "stderr",
          "text": [
            "\r 33%|███▎      | 9/27 [02:03<02:39,  8.89s/it]"
          ]
        },
        {
          "output_type": "stream",
          "name": "stdout",
          "text": [
            " - Generating embeddings for tyiannak/pyAudioAnalysis - \n"
          ]
        },
        {
          "output_type": "stream",
          "name": "stderr",
          "text": [
            "\r 37%|███▋      | 10/27 [02:04<01:53,  6.66s/it]"
          ]
        },
        {
          "output_type": "stream",
          "name": "stdout",
          "text": [
            " - Generating embeddings for jiaaro/pydub - \n"
          ]
        },
        {
          "output_type": "stream",
          "name": "stderr",
          "text": [
            "\r 41%|████      | 11/27 [02:07<01:27,  5.48s/it]"
          ]
        },
        {
          "output_type": "stream",
          "name": "stdout",
          "text": [
            " - Generating embeddings for Parisson/TimeSide - \n"
          ]
        },
        {
          "output_type": "stream",
          "name": "stderr",
          "text": [
            "\r 44%|████▍     | 12/27 [02:23<02:10,  8.67s/it]"
          ]
        },
        {
          "output_type": "stream",
          "name": "stdout",
          "text": [
            " - Generating embeddings for lepture/authlib - \n"
          ]
        },
        {
          "output_type": "stream",
          "name": "stderr",
          "text": [
            "\r 48%|████▊     | 13/27 [02:47<03:07, 13.42s/it]"
          ]
        },
        {
          "output_type": "stream",
          "name": "stdout",
          "text": [
            " - Generating embeddings for pennersr/django-allauth - \n"
          ]
        },
        {
          "output_type": "stream",
          "name": "stderr",
          "text": [
            "\r 52%|█████▏    | 14/27 [03:09<03:27, 15.93s/it]"
          ]
        },
        {
          "output_type": "stream",
          "name": "stdout",
          "text": [
            " - Generating embeddings for evonove/django-oauth-toolkit - \n"
          ]
        },
        {
          "output_type": "stream",
          "name": "stderr",
          "text": [
            "\r 56%|█████▌    | 15/27 [03:20<02:53, 14.45s/it]"
          ]
        },
        {
          "output_type": "stream",
          "name": "stdout",
          "text": [
            " - Generating embeddings for idan/oauthlib - \n"
          ]
        },
        {
          "output_type": "stream",
          "name": "stderr",
          "text": [
            "\r 59%|█████▉    | 16/27 [03:37<02:45, 15.03s/it]"
          ]
        },
        {
          "output_type": "stream",
          "name": "stdout",
          "text": [
            " - Generating embeddings for joestump/python-oauth2 - \n"
          ]
        },
        {
          "output_type": "stream",
          "name": "stderr",
          "text": [
            "\r 63%|██████▎   | 17/27 [03:39<01:52, 11.24s/it]"
          ]
        },
        {
          "output_type": "stream",
          "name": "stdout",
          "text": [
            " - Generating embeddings for omab/python-social-auth - \n"
          ]
        },
        {
          "output_type": "stream",
          "name": "stderr",
          "text": [
            "\r 67%|██████▋   | 18/27 [03:44<01:24,  9.37s/it]"
          ]
        },
        {
          "output_type": "stream",
          "name": "stdout",
          "text": [
            " - Generating embeddings for paramiko/paramiko - \n"
          ]
        },
        {
          "output_type": "stream",
          "name": "stderr",
          "text": [
            "\r 70%|███████   | 19/27 [03:55<01:20, 10.00s/it]"
          ]
        },
        {
          "output_type": "stream",
          "name": "stdout",
          "text": [
            " - Generating embeddings for pyca/pynacl - \n"
          ]
        },
        {
          "output_type": "stream",
          "name": "stderr",
          "text": [
            "\r 74%|███████▍  | 20/27 [04:02<01:02,  8.95s/it]"
          ]
        },
        {
          "output_type": "stream",
          "name": "stdout",
          "text": [
            " - Generating embeddings for jindaxiang/akshare - \n"
          ]
        },
        {
          "output_type": "stream",
          "name": "stderr",
          "text": [
            "\r 78%|███████▊  | 21/27 [04:37<01:41, 16.87s/it]"
          ]
        },
        {
          "output_type": "stream",
          "name": "stdout",
          "text": [
            " - Generating embeddings for s3tools/s3cmd - \n"
          ]
        },
        {
          "output_type": "stream",
          "name": "stderr",
          "text": [
            " 85%|████████▌ | 23/27 [04:40<00:35,  8.82s/it]"
          ]
        },
        {
          "output_type": "stream",
          "name": "stdout",
          "text": [
            " - Generating embeddings for bloomreach/s4cmd - \n",
            " - Generating embeddings for euske/pdfminer - \n"
          ]
        },
        {
          "output_type": "stream",
          "name": "stderr",
          "text": [
            "\r 89%|████████▉ | 24/27 [04:40<00:18,  6.22s/it]"
          ]
        },
        {
          "output_type": "stream",
          "name": "stdout",
          "text": [
            " - Generating embeddings for mstamy2/PyPDF2 - \n"
          ]
        },
        {
          "output_type": "stream",
          "name": "stderr",
          "text": [
            "\r 93%|█████████▎| 25/27 [04:52<00:15,  7.84s/it]"
          ]
        },
        {
          "output_type": "stream",
          "name": "stdout",
          "text": [
            " - Generating embeddings for lepture/mistune - \n"
          ]
        },
        {
          "output_type": "stream",
          "name": "stderr",
          "text": [
            "\r 96%|█████████▋| 26/27 [04:55<00:06,  6.64s/it]"
          ]
        },
        {
          "output_type": "stream",
          "name": "stdout",
          "text": [
            " - Generating embeddings for waylan/Python-Markdown - \n"
          ]
        },
        {
          "output_type": "stream",
          "name": "stderr",
          "text": [
            "100%|██████████| 27/27 [05:11<00:00, 11.54s/it]\n"
          ]
        }
      ],
      "source": [
        "from tqdm import tqdm\n",
        "\n",
        "\n",
        "# Generate code and docstring embeddings for all repositories\n",
        "for repo_name, repo_dict in tqdm(repo_info.items()):\n",
        "    print(f\" - Generating embeddings for {repo_name} - \")\n",
        "    if repo_dict.get(\"code_embeddings\") is None:\n",
        "        repo_dict[\"code_embeddings\"] = get_repo_embeddings(repo_dict[\"funcs\"], input_type=\"code\")\n",
        "    if repo_dict.get(\"doc_embeddings\") is None:\n",
        "        repo_dict[\"doc_embeddings\"] = get_repo_embeddings(repo_dict[\"docs\"], input_type=\"doc\")"
      ]
    },
    {
      "cell_type": "markdown",
      "metadata": {
        "id": "9g0VavLEPK7z"
      },
      "source": [
        "### Evaluations & Results"
      ]
    },
    {
      "cell_type": "code",
      "execution_count": null,
      "metadata": {
        "id": "fbx6Ac5MMOj1"
      },
      "outputs": [],
      "source": [
        "from torch.nn import CosineSimilarity\n",
        "from itertools import combinations\n",
        "\n",
        "cossim = CosineSimilarity(dim=0, eps=1e-8)\n",
        "res = []\n",
        "for repo1, repo2 in combinations(REPOS, 2):\n",
        "    code_embeddings1 = repo_info[repo1][\"code_embeddings\"]\n",
        "    code_embeddings2 = repo_info[repo2][\"code_embeddings\"]\n",
        "    if code_embeddings1 is None or code_embeddings2 is None:\n",
        "        code_similarity = None\n",
        "    else:\n",
        "        code_similarity = cossim(code_embeddings1, code_embeddings2).cpu().detach().numpy().item()\n",
        "\n",
        "    doc_embeddings1 = repo_info[repo1][\"doc_embeddings\"]\n",
        "    doc_embeddings2 = repo_info[repo2][\"doc_embeddings\"]\n",
        "    if doc_embeddings1 is None or doc_embeddings2 is None:\n",
        "        doc_similarity = None\n",
        "    else:\n",
        "        doc_similarity = cossim(doc_embeddings1, doc_embeddings2).cpu().detach().numpy().item()\n",
        "\n",
        "    topic1 = repo_info[repo1][\"topic\"]\n",
        "    topic2 = repo_info[repo2][\"topic\"]\n",
        "\n",
        "    res.append((repo1, repo2, topic1, topic2, code_similarity, doc_similarity))"
      ]
    },
    {
      "cell_type": "code",
      "execution_count": null,
      "metadata": {
        "colab": {
          "base_uri": "https://localhost:8080/",
          "height": 419
        },
        "id": "i-zwEMMRvhlC",
        "outputId": "01a09826-887b-410d-cd56-a9972a40d790"
      },
      "outputs": [
        {
          "output_type": "execute_result",
          "data": {
            "text/plain": [
              "               repo1                               repo2      topic1  \\\n",
              "0    keon/algorithms                prabhupant/python-ds  Algorithms   \n",
              "1    keon/algorithms  grantjenks/python-sortedcontainers  Algorithms   \n",
              "2    keon/algorithms                TheAlgorithms/Python  Algorithms   \n",
              "3    keon/algorithms                   beetbox/audioread  Algorithms   \n",
              "4    keon/algorithms                    worldveil/dejavu  Algorithms   \n",
              "..               ...                                 ...         ...   \n",
              "346   euske/pdfminer                     lepture/mistune         PDF   \n",
              "347   euske/pdfminer              waylan/Python-Markdown         PDF   \n",
              "348   mstamy2/PyPDF2                     lepture/mistune         PDF   \n",
              "349   mstamy2/PyPDF2              waylan/Python-Markdown         PDF   \n",
              "350  lepture/mistune              waylan/Python-Markdown    Markdown   \n",
              "\n",
              "         topic2  code_sim   doc_sim   avg_sim  \n",
              "0    Algorithms  0.778547  0.879596  0.829071  \n",
              "1    Algorithms  0.727102  0.867281  0.797192  \n",
              "2    Algorithms  0.895993  0.900286  0.898139  \n",
              "3         Audio  0.008753  0.471483  0.240118  \n",
              "4         Audio  0.176522  0.522964  0.349743  \n",
              "..          ...       ...       ...       ...  \n",
              "346    Markdown  0.294981  0.450331  0.372656  \n",
              "347    Markdown  0.305095  0.414341  0.359718  \n",
              "348    Markdown  0.333942  0.780140  0.557041  \n",
              "349    Markdown  0.532385  0.814950  0.673668  \n",
              "350    Markdown  0.807583  0.813804  0.810694  \n",
              "\n",
              "[351 rows x 7 columns]"
            ],
            "text/html": [
              "\n",
              "  <div id=\"df-4ef847a2-314e-4642-83f6-ca92f5fec25a\">\n",
              "    <div class=\"colab-df-container\">\n",
              "      <div>\n",
              "<style scoped>\n",
              "    .dataframe tbody tr th:only-of-type {\n",
              "        vertical-align: middle;\n",
              "    }\n",
              "\n",
              "    .dataframe tbody tr th {\n",
              "        vertical-align: top;\n",
              "    }\n",
              "\n",
              "    .dataframe thead th {\n",
              "        text-align: right;\n",
              "    }\n",
              "</style>\n",
              "<table border=\"1\" class=\"dataframe\">\n",
              "  <thead>\n",
              "    <tr style=\"text-align: right;\">\n",
              "      <th></th>\n",
              "      <th>repo1</th>\n",
              "      <th>repo2</th>\n",
              "      <th>topic1</th>\n",
              "      <th>topic2</th>\n",
              "      <th>code_sim</th>\n",
              "      <th>doc_sim</th>\n",
              "      <th>avg_sim</th>\n",
              "    </tr>\n",
              "  </thead>\n",
              "  <tbody>\n",
              "    <tr>\n",
              "      <th>0</th>\n",
              "      <td>keon/algorithms</td>\n",
              "      <td>prabhupant/python-ds</td>\n",
              "      <td>Algorithms</td>\n",
              "      <td>Algorithms</td>\n",
              "      <td>0.778547</td>\n",
              "      <td>0.879596</td>\n",
              "      <td>0.829071</td>\n",
              "    </tr>\n",
              "    <tr>\n",
              "      <th>1</th>\n",
              "      <td>keon/algorithms</td>\n",
              "      <td>grantjenks/python-sortedcontainers</td>\n",
              "      <td>Algorithms</td>\n",
              "      <td>Algorithms</td>\n",
              "      <td>0.727102</td>\n",
              "      <td>0.867281</td>\n",
              "      <td>0.797192</td>\n",
              "    </tr>\n",
              "    <tr>\n",
              "      <th>2</th>\n",
              "      <td>keon/algorithms</td>\n",
              "      <td>TheAlgorithms/Python</td>\n",
              "      <td>Algorithms</td>\n",
              "      <td>Algorithms</td>\n",
              "      <td>0.895993</td>\n",
              "      <td>0.900286</td>\n",
              "      <td>0.898139</td>\n",
              "    </tr>\n",
              "    <tr>\n",
              "      <th>3</th>\n",
              "      <td>keon/algorithms</td>\n",
              "      <td>beetbox/audioread</td>\n",
              "      <td>Algorithms</td>\n",
              "      <td>Audio</td>\n",
              "      <td>0.008753</td>\n",
              "      <td>0.471483</td>\n",
              "      <td>0.240118</td>\n",
              "    </tr>\n",
              "    <tr>\n",
              "      <th>4</th>\n",
              "      <td>keon/algorithms</td>\n",
              "      <td>worldveil/dejavu</td>\n",
              "      <td>Algorithms</td>\n",
              "      <td>Audio</td>\n",
              "      <td>0.176522</td>\n",
              "      <td>0.522964</td>\n",
              "      <td>0.349743</td>\n",
              "    </tr>\n",
              "    <tr>\n",
              "      <th>...</th>\n",
              "      <td>...</td>\n",
              "      <td>...</td>\n",
              "      <td>...</td>\n",
              "      <td>...</td>\n",
              "      <td>...</td>\n",
              "      <td>...</td>\n",
              "      <td>...</td>\n",
              "    </tr>\n",
              "    <tr>\n",
              "      <th>346</th>\n",
              "      <td>euske/pdfminer</td>\n",
              "      <td>lepture/mistune</td>\n",
              "      <td>PDF</td>\n",
              "      <td>Markdown</td>\n",
              "      <td>0.294981</td>\n",
              "      <td>0.450331</td>\n",
              "      <td>0.372656</td>\n",
              "    </tr>\n",
              "    <tr>\n",
              "      <th>347</th>\n",
              "      <td>euske/pdfminer</td>\n",
              "      <td>waylan/Python-Markdown</td>\n",
              "      <td>PDF</td>\n",
              "      <td>Markdown</td>\n",
              "      <td>0.305095</td>\n",
              "      <td>0.414341</td>\n",
              "      <td>0.359718</td>\n",
              "    </tr>\n",
              "    <tr>\n",
              "      <th>348</th>\n",
              "      <td>mstamy2/PyPDF2</td>\n",
              "      <td>lepture/mistune</td>\n",
              "      <td>PDF</td>\n",
              "      <td>Markdown</td>\n",
              "      <td>0.333942</td>\n",
              "      <td>0.780140</td>\n",
              "      <td>0.557041</td>\n",
              "    </tr>\n",
              "    <tr>\n",
              "      <th>349</th>\n",
              "      <td>mstamy2/PyPDF2</td>\n",
              "      <td>waylan/Python-Markdown</td>\n",
              "      <td>PDF</td>\n",
              "      <td>Markdown</td>\n",
              "      <td>0.532385</td>\n",
              "      <td>0.814950</td>\n",
              "      <td>0.673668</td>\n",
              "    </tr>\n",
              "    <tr>\n",
              "      <th>350</th>\n",
              "      <td>lepture/mistune</td>\n",
              "      <td>waylan/Python-Markdown</td>\n",
              "      <td>Markdown</td>\n",
              "      <td>Markdown</td>\n",
              "      <td>0.807583</td>\n",
              "      <td>0.813804</td>\n",
              "      <td>0.810694</td>\n",
              "    </tr>\n",
              "  </tbody>\n",
              "</table>\n",
              "<p>351 rows × 7 columns</p>\n",
              "</div>\n",
              "      <button class=\"colab-df-convert\" onclick=\"convertToInteractive('df-4ef847a2-314e-4642-83f6-ca92f5fec25a')\"\n",
              "              title=\"Convert this dataframe to an interactive table.\"\n",
              "              style=\"display:none;\">\n",
              "        \n",
              "  <svg xmlns=\"http://www.w3.org/2000/svg\" height=\"24px\"viewBox=\"0 0 24 24\"\n",
              "       width=\"24px\">\n",
              "    <path d=\"M0 0h24v24H0V0z\" fill=\"none\"/>\n",
              "    <path d=\"M18.56 5.44l.94 2.06.94-2.06 2.06-.94-2.06-.94-.94-2.06-.94 2.06-2.06.94zm-11 1L8.5 8.5l.94-2.06 2.06-.94-2.06-.94L8.5 2.5l-.94 2.06-2.06.94zm10 10l.94 2.06.94-2.06 2.06-.94-2.06-.94-.94-2.06-.94 2.06-2.06.94z\"/><path d=\"M17.41 7.96l-1.37-1.37c-.4-.4-.92-.59-1.43-.59-.52 0-1.04.2-1.43.59L10.3 9.45l-7.72 7.72c-.78.78-.78 2.05 0 2.83L4 21.41c.39.39.9.59 1.41.59.51 0 1.02-.2 1.41-.59l7.78-7.78 2.81-2.81c.8-.78.8-2.07 0-2.86zM5.41 20L4 18.59l7.72-7.72 1.47 1.35L5.41 20z\"/>\n",
              "  </svg>\n",
              "      </button>\n",
              "      \n",
              "  <style>\n",
              "    .colab-df-container {\n",
              "      display:flex;\n",
              "      flex-wrap:wrap;\n",
              "      gap: 12px;\n",
              "    }\n",
              "\n",
              "    .colab-df-convert {\n",
              "      background-color: #E8F0FE;\n",
              "      border: none;\n",
              "      border-radius: 50%;\n",
              "      cursor: pointer;\n",
              "      display: none;\n",
              "      fill: #1967D2;\n",
              "      height: 32px;\n",
              "      padding: 0 0 0 0;\n",
              "      width: 32px;\n",
              "    }\n",
              "\n",
              "    .colab-df-convert:hover {\n",
              "      background-color: #E2EBFA;\n",
              "      box-shadow: 0px 1px 2px rgba(60, 64, 67, 0.3), 0px 1px 3px 1px rgba(60, 64, 67, 0.15);\n",
              "      fill: #174EA6;\n",
              "    }\n",
              "\n",
              "    [theme=dark] .colab-df-convert {\n",
              "      background-color: #3B4455;\n",
              "      fill: #D2E3FC;\n",
              "    }\n",
              "\n",
              "    [theme=dark] .colab-df-convert:hover {\n",
              "      background-color: #434B5C;\n",
              "      box-shadow: 0px 1px 3px 1px rgba(0, 0, 0, 0.15);\n",
              "      filter: drop-shadow(0px 1px 2px rgba(0, 0, 0, 0.3));\n",
              "      fill: #FFFFFF;\n",
              "    }\n",
              "  </style>\n",
              "\n",
              "      <script>\n",
              "        const buttonEl =\n",
              "          document.querySelector('#df-4ef847a2-314e-4642-83f6-ca92f5fec25a button.colab-df-convert');\n",
              "        buttonEl.style.display =\n",
              "          google.colab.kernel.accessAllowed ? 'block' : 'none';\n",
              "\n",
              "        async function convertToInteractive(key) {\n",
              "          const element = document.querySelector('#df-4ef847a2-314e-4642-83f6-ca92f5fec25a');\n",
              "          const dataTable =\n",
              "            await google.colab.kernel.invokeFunction('convertToInteractive',\n",
              "                                                     [key], {});\n",
              "          if (!dataTable) return;\n",
              "\n",
              "          const docLinkHtml = 'Like what you see? Visit the ' +\n",
              "            '<a target=\"_blank\" href=https://colab.research.google.com/notebooks/data_table.ipynb>data table notebook</a>'\n",
              "            + ' to learn more about interactive tables.';\n",
              "          element.innerHTML = '';\n",
              "          dataTable['output_type'] = 'display_data';\n",
              "          await google.colab.output.renderOutput(dataTable, element);\n",
              "          const docLink = document.createElement('div');\n",
              "          docLink.innerHTML = docLinkHtml;\n",
              "          element.appendChild(docLink);\n",
              "        }\n",
              "      </script>\n",
              "    </div>\n",
              "  </div>\n",
              "  "
            ]
          },
          "metadata": {},
          "execution_count": 11
        }
      ],
      "source": [
        "import pandas as pd\n",
        "\n",
        "df = pd.DataFrame(res, columns=[\"repo1\", \"repo2\", \"topic1\", \"topic2\", \"code_sim\", \"doc_sim\"])\n",
        "\n",
        "# NaN values due to missing code/docstring in the repo will be skipped\n",
        "df[\"avg_sim\"] = df[[\"code_sim\", \"doc_sim\"]].mean(axis=1, skipna=True)\n",
        "df"
      ]
    },
    {
      "cell_type": "code",
      "execution_count": null,
      "metadata": {
        "colab": {
          "base_uri": "https://localhost:8080/",
          "height": 419
        },
        "id": "3hx2obhYbAmK",
        "outputId": "c64fda02-f7a7-4140-f6be-747bd9270ca3"
      },
      "outputs": [
        {
          "output_type": "execute_result",
          "data": {
            "text/plain": [
              "                            repo1                         repo2      topic1  \\\n",
              "0                 lepture/authlib                 idan/oauthlib       OAuth   \n",
              "1    evonove/django-oauth-toolkit                 idan/oauthlib       OAuth   \n",
              "2                 keon/algorithms          TheAlgorithms/Python  Algorithms   \n",
              "3                 lepture/authlib  evonove/django-oauth-toolkit       OAuth   \n",
              "4                   idan/oauthlib        joestump/python-oauth2       OAuth   \n",
              "..                            ...                           ...         ...   \n",
              "346            sergree/matchering       pennersr/django-allauth       Audio   \n",
              "347      tyiannak/pyAudioAnalysis       pennersr/django-allauth       Audio   \n",
              "348            jindaxiang/akshare                 s3tools/s3cmd  Downloader   \n",
              "349               librosa/librosa       pennersr/django-allauth       Audio   \n",
              "350            jindaxiang/akshare              bloomreach/s4cmd  Downloader   \n",
              "\n",
              "         topic2  code_sim   doc_sim   avg_sim  \n",
              "0         OAuth  0.936125  0.959024  0.947574  \n",
              "1         OAuth  0.922530  0.932178  0.927354  \n",
              "2    Algorithms  0.895993  0.900286  0.898139  \n",
              "3         OAuth  0.891102  0.878009  0.884556  \n",
              "4         OAuth  0.879883  0.919387  0.899635  \n",
              "..          ...       ...       ...       ...  \n",
              "346       OAuth -0.127733       NaN -0.127733  \n",
              "347       OAuth -0.127950  0.253006  0.062528  \n",
              "348  Downloader -0.128894  0.235784  0.053445  \n",
              "349       OAuth -0.134879  0.254131  0.059626  \n",
              "350  Downloader -0.171210  0.178415  0.003603  \n",
              "\n",
              "[351 rows x 7 columns]"
            ],
            "text/html": [
              "\n",
              "  <div id=\"df-9ffcd56d-05ee-414a-b049-ecce19c07ea3\">\n",
              "    <div class=\"colab-df-container\">\n",
              "      <div>\n",
              "<style scoped>\n",
              "    .dataframe tbody tr th:only-of-type {\n",
              "        vertical-align: middle;\n",
              "    }\n",
              "\n",
              "    .dataframe tbody tr th {\n",
              "        vertical-align: top;\n",
              "    }\n",
              "\n",
              "    .dataframe thead th {\n",
              "        text-align: right;\n",
              "    }\n",
              "</style>\n",
              "<table border=\"1\" class=\"dataframe\">\n",
              "  <thead>\n",
              "    <tr style=\"text-align: right;\">\n",
              "      <th></th>\n",
              "      <th>repo1</th>\n",
              "      <th>repo2</th>\n",
              "      <th>topic1</th>\n",
              "      <th>topic2</th>\n",
              "      <th>code_sim</th>\n",
              "      <th>doc_sim</th>\n",
              "      <th>avg_sim</th>\n",
              "    </tr>\n",
              "  </thead>\n",
              "  <tbody>\n",
              "    <tr>\n",
              "      <th>0</th>\n",
              "      <td>lepture/authlib</td>\n",
              "      <td>idan/oauthlib</td>\n",
              "      <td>OAuth</td>\n",
              "      <td>OAuth</td>\n",
              "      <td>0.936125</td>\n",
              "      <td>0.959024</td>\n",
              "      <td>0.947574</td>\n",
              "    </tr>\n",
              "    <tr>\n",
              "      <th>1</th>\n",
              "      <td>evonove/django-oauth-toolkit</td>\n",
              "      <td>idan/oauthlib</td>\n",
              "      <td>OAuth</td>\n",
              "      <td>OAuth</td>\n",
              "      <td>0.922530</td>\n",
              "      <td>0.932178</td>\n",
              "      <td>0.927354</td>\n",
              "    </tr>\n",
              "    <tr>\n",
              "      <th>2</th>\n",
              "      <td>keon/algorithms</td>\n",
              "      <td>TheAlgorithms/Python</td>\n",
              "      <td>Algorithms</td>\n",
              "      <td>Algorithms</td>\n",
              "      <td>0.895993</td>\n",
              "      <td>0.900286</td>\n",
              "      <td>0.898139</td>\n",
              "    </tr>\n",
              "    <tr>\n",
              "      <th>3</th>\n",
              "      <td>lepture/authlib</td>\n",
              "      <td>evonove/django-oauth-toolkit</td>\n",
              "      <td>OAuth</td>\n",
              "      <td>OAuth</td>\n",
              "      <td>0.891102</td>\n",
              "      <td>0.878009</td>\n",
              "      <td>0.884556</td>\n",
              "    </tr>\n",
              "    <tr>\n",
              "      <th>4</th>\n",
              "      <td>idan/oauthlib</td>\n",
              "      <td>joestump/python-oauth2</td>\n",
              "      <td>OAuth</td>\n",
              "      <td>OAuth</td>\n",
              "      <td>0.879883</td>\n",
              "      <td>0.919387</td>\n",
              "      <td>0.899635</td>\n",
              "    </tr>\n",
              "    <tr>\n",
              "      <th>...</th>\n",
              "      <td>...</td>\n",
              "      <td>...</td>\n",
              "      <td>...</td>\n",
              "      <td>...</td>\n",
              "      <td>...</td>\n",
              "      <td>...</td>\n",
              "      <td>...</td>\n",
              "    </tr>\n",
              "    <tr>\n",
              "      <th>346</th>\n",
              "      <td>sergree/matchering</td>\n",
              "      <td>pennersr/django-allauth</td>\n",
              "      <td>Audio</td>\n",
              "      <td>OAuth</td>\n",
              "      <td>-0.127733</td>\n",
              "      <td>NaN</td>\n",
              "      <td>-0.127733</td>\n",
              "    </tr>\n",
              "    <tr>\n",
              "      <th>347</th>\n",
              "      <td>tyiannak/pyAudioAnalysis</td>\n",
              "      <td>pennersr/django-allauth</td>\n",
              "      <td>Audio</td>\n",
              "      <td>OAuth</td>\n",
              "      <td>-0.127950</td>\n",
              "      <td>0.253006</td>\n",
              "      <td>0.062528</td>\n",
              "    </tr>\n",
              "    <tr>\n",
              "      <th>348</th>\n",
              "      <td>jindaxiang/akshare</td>\n",
              "      <td>s3tools/s3cmd</td>\n",
              "      <td>Downloader</td>\n",
              "      <td>Downloader</td>\n",
              "      <td>-0.128894</td>\n",
              "      <td>0.235784</td>\n",
              "      <td>0.053445</td>\n",
              "    </tr>\n",
              "    <tr>\n",
              "      <th>349</th>\n",
              "      <td>librosa/librosa</td>\n",
              "      <td>pennersr/django-allauth</td>\n",
              "      <td>Audio</td>\n",
              "      <td>OAuth</td>\n",
              "      <td>-0.134879</td>\n",
              "      <td>0.254131</td>\n",
              "      <td>0.059626</td>\n",
              "    </tr>\n",
              "    <tr>\n",
              "      <th>350</th>\n",
              "      <td>jindaxiang/akshare</td>\n",
              "      <td>bloomreach/s4cmd</td>\n",
              "      <td>Downloader</td>\n",
              "      <td>Downloader</td>\n",
              "      <td>-0.171210</td>\n",
              "      <td>0.178415</td>\n",
              "      <td>0.003603</td>\n",
              "    </tr>\n",
              "  </tbody>\n",
              "</table>\n",
              "<p>351 rows × 7 columns</p>\n",
              "</div>\n",
              "      <button class=\"colab-df-convert\" onclick=\"convertToInteractive('df-9ffcd56d-05ee-414a-b049-ecce19c07ea3')\"\n",
              "              title=\"Convert this dataframe to an interactive table.\"\n",
              "              style=\"display:none;\">\n",
              "        \n",
              "  <svg xmlns=\"http://www.w3.org/2000/svg\" height=\"24px\"viewBox=\"0 0 24 24\"\n",
              "       width=\"24px\">\n",
              "    <path d=\"M0 0h24v24H0V0z\" fill=\"none\"/>\n",
              "    <path d=\"M18.56 5.44l.94 2.06.94-2.06 2.06-.94-2.06-.94-.94-2.06-.94 2.06-2.06.94zm-11 1L8.5 8.5l.94-2.06 2.06-.94-2.06-.94L8.5 2.5l-.94 2.06-2.06.94zm10 10l.94 2.06.94-2.06 2.06-.94-2.06-.94-.94-2.06-.94 2.06-2.06.94z\"/><path d=\"M17.41 7.96l-1.37-1.37c-.4-.4-.92-.59-1.43-.59-.52 0-1.04.2-1.43.59L10.3 9.45l-7.72 7.72c-.78.78-.78 2.05 0 2.83L4 21.41c.39.39.9.59 1.41.59.51 0 1.02-.2 1.41-.59l7.78-7.78 2.81-2.81c.8-.78.8-2.07 0-2.86zM5.41 20L4 18.59l7.72-7.72 1.47 1.35L5.41 20z\"/>\n",
              "  </svg>\n",
              "      </button>\n",
              "      \n",
              "  <style>\n",
              "    .colab-df-container {\n",
              "      display:flex;\n",
              "      flex-wrap:wrap;\n",
              "      gap: 12px;\n",
              "    }\n",
              "\n",
              "    .colab-df-convert {\n",
              "      background-color: #E8F0FE;\n",
              "      border: none;\n",
              "      border-radius: 50%;\n",
              "      cursor: pointer;\n",
              "      display: none;\n",
              "      fill: #1967D2;\n",
              "      height: 32px;\n",
              "      padding: 0 0 0 0;\n",
              "      width: 32px;\n",
              "    }\n",
              "\n",
              "    .colab-df-convert:hover {\n",
              "      background-color: #E2EBFA;\n",
              "      box-shadow: 0px 1px 2px rgba(60, 64, 67, 0.3), 0px 1px 3px 1px rgba(60, 64, 67, 0.15);\n",
              "      fill: #174EA6;\n",
              "    }\n",
              "\n",
              "    [theme=dark] .colab-df-convert {\n",
              "      background-color: #3B4455;\n",
              "      fill: #D2E3FC;\n",
              "    }\n",
              "\n",
              "    [theme=dark] .colab-df-convert:hover {\n",
              "      background-color: #434B5C;\n",
              "      box-shadow: 0px 1px 3px 1px rgba(0, 0, 0, 0.15);\n",
              "      filter: drop-shadow(0px 1px 2px rgba(0, 0, 0, 0.3));\n",
              "      fill: #FFFFFF;\n",
              "    }\n",
              "  </style>\n",
              "\n",
              "      <script>\n",
              "        const buttonEl =\n",
              "          document.querySelector('#df-9ffcd56d-05ee-414a-b049-ecce19c07ea3 button.colab-df-convert');\n",
              "        buttonEl.style.display =\n",
              "          google.colab.kernel.accessAllowed ? 'block' : 'none';\n",
              "\n",
              "        async function convertToInteractive(key) {\n",
              "          const element = document.querySelector('#df-9ffcd56d-05ee-414a-b049-ecce19c07ea3');\n",
              "          const dataTable =\n",
              "            await google.colab.kernel.invokeFunction('convertToInteractive',\n",
              "                                                     [key], {});\n",
              "          if (!dataTable) return;\n",
              "\n",
              "          const docLinkHtml = 'Like what you see? Visit the ' +\n",
              "            '<a target=\"_blank\" href=https://colab.research.google.com/notebooks/data_table.ipynb>data table notebook</a>'\n",
              "            + ' to learn more about interactive tables.';\n",
              "          element.innerHTML = '';\n",
              "          dataTable['output_type'] = 'display_data';\n",
              "          await google.colab.output.renderOutput(dataTable, element);\n",
              "          const docLink = document.createElement('div');\n",
              "          docLink.innerHTML = docLinkHtml;\n",
              "          element.appendChild(docLink);\n",
              "        }\n",
              "      </script>\n",
              "    </div>\n",
              "  </div>\n",
              "  "
            ]
          },
          "metadata": {},
          "execution_count": 12
        }
      ],
      "source": [
        "# Sort the table based on code semantic similarity\n",
        "df.sort_values(\"code_sim\", ascending=False).reset_index(drop=True)"
      ]
    },
    {
      "cell_type": "code",
      "execution_count": null,
      "metadata": {
        "colab": {
          "base_uri": "https://localhost:8080/",
          "height": 419
        },
        "id": "HJ5KN2pBUoZx",
        "outputId": "88bc718e-b830-421c-b85c-0a6facbce523"
      },
      "outputs": [
        {
          "output_type": "execute_result",
          "data": {
            "text/plain": [
              "                            repo1                   repo2      topic1  \\\n",
              "0                 lepture/authlib           idan/oauthlib       OAuth   \n",
              "1    evonove/django-oauth-toolkit           idan/oauthlib       OAuth   \n",
              "2                   idan/oauthlib  joestump/python-oauth2       OAuth   \n",
              "3                 keon/algorithms    TheAlgorithms/Python  Algorithms   \n",
              "4                 lepture/authlib  joestump/python-oauth2       OAuth   \n",
              "..                            ...                     ...         ...   \n",
              "346            sergree/matchering        bloomreach/s4cmd       Audio   \n",
              "347            sergree/matchering          euske/pdfminer       Audio   \n",
              "348            sergree/matchering          mstamy2/PyPDF2       Audio   \n",
              "349            sergree/matchering         lepture/mistune       Audio   \n",
              "350            sergree/matchering  waylan/Python-Markdown       Audio   \n",
              "\n",
              "         topic2  code_sim   doc_sim   avg_sim  \n",
              "0         OAuth  0.936125  0.959024  0.947574  \n",
              "1         OAuth  0.922530  0.932178  0.927354  \n",
              "2         OAuth  0.879883  0.919387  0.899635  \n",
              "3    Algorithms  0.895993  0.900286  0.898139  \n",
              "4         OAuth  0.834853  0.899069  0.866961  \n",
              "..          ...       ...       ...       ...  \n",
              "346  Downloader  0.003936       NaN  0.003936  \n",
              "347         PDF  0.147579       NaN  0.147579  \n",
              "348         PDF  0.180949       NaN  0.180949  \n",
              "349    Markdown  0.022897       NaN  0.022897  \n",
              "350    Markdown  0.100483       NaN  0.100483  \n",
              "\n",
              "[351 rows x 7 columns]"
            ],
            "text/html": [
              "\n",
              "  <div id=\"df-6db5999e-4804-4c97-8c50-86f34421099c\">\n",
              "    <div class=\"colab-df-container\">\n",
              "      <div>\n",
              "<style scoped>\n",
              "    .dataframe tbody tr th:only-of-type {\n",
              "        vertical-align: middle;\n",
              "    }\n",
              "\n",
              "    .dataframe tbody tr th {\n",
              "        vertical-align: top;\n",
              "    }\n",
              "\n",
              "    .dataframe thead th {\n",
              "        text-align: right;\n",
              "    }\n",
              "</style>\n",
              "<table border=\"1\" class=\"dataframe\">\n",
              "  <thead>\n",
              "    <tr style=\"text-align: right;\">\n",
              "      <th></th>\n",
              "      <th>repo1</th>\n",
              "      <th>repo2</th>\n",
              "      <th>topic1</th>\n",
              "      <th>topic2</th>\n",
              "      <th>code_sim</th>\n",
              "      <th>doc_sim</th>\n",
              "      <th>avg_sim</th>\n",
              "    </tr>\n",
              "  </thead>\n",
              "  <tbody>\n",
              "    <tr>\n",
              "      <th>0</th>\n",
              "      <td>lepture/authlib</td>\n",
              "      <td>idan/oauthlib</td>\n",
              "      <td>OAuth</td>\n",
              "      <td>OAuth</td>\n",
              "      <td>0.936125</td>\n",
              "      <td>0.959024</td>\n",
              "      <td>0.947574</td>\n",
              "    </tr>\n",
              "    <tr>\n",
              "      <th>1</th>\n",
              "      <td>evonove/django-oauth-toolkit</td>\n",
              "      <td>idan/oauthlib</td>\n",
              "      <td>OAuth</td>\n",
              "      <td>OAuth</td>\n",
              "      <td>0.922530</td>\n",
              "      <td>0.932178</td>\n",
              "      <td>0.927354</td>\n",
              "    </tr>\n",
              "    <tr>\n",
              "      <th>2</th>\n",
              "      <td>idan/oauthlib</td>\n",
              "      <td>joestump/python-oauth2</td>\n",
              "      <td>OAuth</td>\n",
              "      <td>OAuth</td>\n",
              "      <td>0.879883</td>\n",
              "      <td>0.919387</td>\n",
              "      <td>0.899635</td>\n",
              "    </tr>\n",
              "    <tr>\n",
              "      <th>3</th>\n",
              "      <td>keon/algorithms</td>\n",
              "      <td>TheAlgorithms/Python</td>\n",
              "      <td>Algorithms</td>\n",
              "      <td>Algorithms</td>\n",
              "      <td>0.895993</td>\n",
              "      <td>0.900286</td>\n",
              "      <td>0.898139</td>\n",
              "    </tr>\n",
              "    <tr>\n",
              "      <th>4</th>\n",
              "      <td>lepture/authlib</td>\n",
              "      <td>joestump/python-oauth2</td>\n",
              "      <td>OAuth</td>\n",
              "      <td>OAuth</td>\n",
              "      <td>0.834853</td>\n",
              "      <td>0.899069</td>\n",
              "      <td>0.866961</td>\n",
              "    </tr>\n",
              "    <tr>\n",
              "      <th>...</th>\n",
              "      <td>...</td>\n",
              "      <td>...</td>\n",
              "      <td>...</td>\n",
              "      <td>...</td>\n",
              "      <td>...</td>\n",
              "      <td>...</td>\n",
              "      <td>...</td>\n",
              "    </tr>\n",
              "    <tr>\n",
              "      <th>346</th>\n",
              "      <td>sergree/matchering</td>\n",
              "      <td>bloomreach/s4cmd</td>\n",
              "      <td>Audio</td>\n",
              "      <td>Downloader</td>\n",
              "      <td>0.003936</td>\n",
              "      <td>NaN</td>\n",
              "      <td>0.003936</td>\n",
              "    </tr>\n",
              "    <tr>\n",
              "      <th>347</th>\n",
              "      <td>sergree/matchering</td>\n",
              "      <td>euske/pdfminer</td>\n",
              "      <td>Audio</td>\n",
              "      <td>PDF</td>\n",
              "      <td>0.147579</td>\n",
              "      <td>NaN</td>\n",
              "      <td>0.147579</td>\n",
              "    </tr>\n",
              "    <tr>\n",
              "      <th>348</th>\n",
              "      <td>sergree/matchering</td>\n",
              "      <td>mstamy2/PyPDF2</td>\n",
              "      <td>Audio</td>\n",
              "      <td>PDF</td>\n",
              "      <td>0.180949</td>\n",
              "      <td>NaN</td>\n",
              "      <td>0.180949</td>\n",
              "    </tr>\n",
              "    <tr>\n",
              "      <th>349</th>\n",
              "      <td>sergree/matchering</td>\n",
              "      <td>lepture/mistune</td>\n",
              "      <td>Audio</td>\n",
              "      <td>Markdown</td>\n",
              "      <td>0.022897</td>\n",
              "      <td>NaN</td>\n",
              "      <td>0.022897</td>\n",
              "    </tr>\n",
              "    <tr>\n",
              "      <th>350</th>\n",
              "      <td>sergree/matchering</td>\n",
              "      <td>waylan/Python-Markdown</td>\n",
              "      <td>Audio</td>\n",
              "      <td>Markdown</td>\n",
              "      <td>0.100483</td>\n",
              "      <td>NaN</td>\n",
              "      <td>0.100483</td>\n",
              "    </tr>\n",
              "  </tbody>\n",
              "</table>\n",
              "<p>351 rows × 7 columns</p>\n",
              "</div>\n",
              "      <button class=\"colab-df-convert\" onclick=\"convertToInteractive('df-6db5999e-4804-4c97-8c50-86f34421099c')\"\n",
              "              title=\"Convert this dataframe to an interactive table.\"\n",
              "              style=\"display:none;\">\n",
              "        \n",
              "  <svg xmlns=\"http://www.w3.org/2000/svg\" height=\"24px\"viewBox=\"0 0 24 24\"\n",
              "       width=\"24px\">\n",
              "    <path d=\"M0 0h24v24H0V0z\" fill=\"none\"/>\n",
              "    <path d=\"M18.56 5.44l.94 2.06.94-2.06 2.06-.94-2.06-.94-.94-2.06-.94 2.06-2.06.94zm-11 1L8.5 8.5l.94-2.06 2.06-.94-2.06-.94L8.5 2.5l-.94 2.06-2.06.94zm10 10l.94 2.06.94-2.06 2.06-.94-2.06-.94-.94-2.06-.94 2.06-2.06.94z\"/><path d=\"M17.41 7.96l-1.37-1.37c-.4-.4-.92-.59-1.43-.59-.52 0-1.04.2-1.43.59L10.3 9.45l-7.72 7.72c-.78.78-.78 2.05 0 2.83L4 21.41c.39.39.9.59 1.41.59.51 0 1.02-.2 1.41-.59l7.78-7.78 2.81-2.81c.8-.78.8-2.07 0-2.86zM5.41 20L4 18.59l7.72-7.72 1.47 1.35L5.41 20z\"/>\n",
              "  </svg>\n",
              "      </button>\n",
              "      \n",
              "  <style>\n",
              "    .colab-df-container {\n",
              "      display:flex;\n",
              "      flex-wrap:wrap;\n",
              "      gap: 12px;\n",
              "    }\n",
              "\n",
              "    .colab-df-convert {\n",
              "      background-color: #E8F0FE;\n",
              "      border: none;\n",
              "      border-radius: 50%;\n",
              "      cursor: pointer;\n",
              "      display: none;\n",
              "      fill: #1967D2;\n",
              "      height: 32px;\n",
              "      padding: 0 0 0 0;\n",
              "      width: 32px;\n",
              "    }\n",
              "\n",
              "    .colab-df-convert:hover {\n",
              "      background-color: #E2EBFA;\n",
              "      box-shadow: 0px 1px 2px rgba(60, 64, 67, 0.3), 0px 1px 3px 1px rgba(60, 64, 67, 0.15);\n",
              "      fill: #174EA6;\n",
              "    }\n",
              "\n",
              "    [theme=dark] .colab-df-convert {\n",
              "      background-color: #3B4455;\n",
              "      fill: #D2E3FC;\n",
              "    }\n",
              "\n",
              "    [theme=dark] .colab-df-convert:hover {\n",
              "      background-color: #434B5C;\n",
              "      box-shadow: 0px 1px 3px 1px rgba(0, 0, 0, 0.15);\n",
              "      filter: drop-shadow(0px 1px 2px rgba(0, 0, 0, 0.3));\n",
              "      fill: #FFFFFF;\n",
              "    }\n",
              "  </style>\n",
              "\n",
              "      <script>\n",
              "        const buttonEl =\n",
              "          document.querySelector('#df-6db5999e-4804-4c97-8c50-86f34421099c button.colab-df-convert');\n",
              "        buttonEl.style.display =\n",
              "          google.colab.kernel.accessAllowed ? 'block' : 'none';\n",
              "\n",
              "        async function convertToInteractive(key) {\n",
              "          const element = document.querySelector('#df-6db5999e-4804-4c97-8c50-86f34421099c');\n",
              "          const dataTable =\n",
              "            await google.colab.kernel.invokeFunction('convertToInteractive',\n",
              "                                                     [key], {});\n",
              "          if (!dataTable) return;\n",
              "\n",
              "          const docLinkHtml = 'Like what you see? Visit the ' +\n",
              "            '<a target=\"_blank\" href=https://colab.research.google.com/notebooks/data_table.ipynb>data table notebook</a>'\n",
              "            + ' to learn more about interactive tables.';\n",
              "          element.innerHTML = '';\n",
              "          dataTable['output_type'] = 'display_data';\n",
              "          await google.colab.output.renderOutput(dataTable, element);\n",
              "          const docLink = document.createElement('div');\n",
              "          docLink.innerHTML = docLinkHtml;\n",
              "          element.appendChild(docLink);\n",
              "        }\n",
              "      </script>\n",
              "    </div>\n",
              "  </div>\n",
              "  "
            ]
          },
          "metadata": {},
          "execution_count": 13
        }
      ],
      "source": [
        "# Sort the table based on docstring semantic similarity\n",
        "df.sort_values(\"doc_sim\", ascending=False).reset_index(drop=True)"
      ]
    },
    {
      "cell_type": "code",
      "execution_count": null,
      "metadata": {
        "colab": {
          "base_uri": "https://localhost:8080/",
          "height": 419
        },
        "id": "UTmCstl1VDn8",
        "outputId": "050eb9c8-67dc-4346-f14f-2d8d1a2366d8"
      },
      "outputs": [
        {
          "output_type": "execute_result",
          "data": {
            "text/plain": [
              "                            repo1                         repo2      topic1  \\\n",
              "0                 lepture/authlib                 idan/oauthlib       OAuth   \n",
              "1    evonove/django-oauth-toolkit                 idan/oauthlib       OAuth   \n",
              "2                   idan/oauthlib        joestump/python-oauth2       OAuth   \n",
              "3                 keon/algorithms          TheAlgorithms/Python  Algorithms   \n",
              "4                 lepture/authlib  evonove/django-oauth-toolkit       OAuth   \n",
              "..                            ...                           ...         ...   \n",
              "346            sergree/matchering               lepture/authlib       Audio   \n",
              "347            sergree/matchering       omab/python-social-auth       Audio   \n",
              "348            sergree/matchering  evonove/django-oauth-toolkit       Audio   \n",
              "349            sergree/matchering                 s3tools/s3cmd       Audio   \n",
              "350            sergree/matchering       pennersr/django-allauth       Audio   \n",
              "\n",
              "         topic2  code_sim   doc_sim   avg_sim  \n",
              "0         OAuth  0.936125  0.959024  0.947574  \n",
              "1         OAuth  0.922530  0.932178  0.927354  \n",
              "2         OAuth  0.879883  0.919387  0.899635  \n",
              "3    Algorithms  0.895993  0.900286  0.898139  \n",
              "4         OAuth  0.891102  0.878009  0.884556  \n",
              "..          ...       ...       ...       ...  \n",
              "346       OAuth -0.036973       NaN -0.036973  \n",
              "347       OAuth -0.047977       NaN -0.047977  \n",
              "348       OAuth -0.061241       NaN -0.061241  \n",
              "349  Downloader -0.061914       NaN -0.061914  \n",
              "350       OAuth -0.127733       NaN -0.127733  \n",
              "\n",
              "[351 rows x 7 columns]"
            ],
            "text/html": [
              "\n",
              "  <div id=\"df-d8ebeecb-f3c7-4184-b0f7-f28b36238a13\">\n",
              "    <div class=\"colab-df-container\">\n",
              "      <div>\n",
              "<style scoped>\n",
              "    .dataframe tbody tr th:only-of-type {\n",
              "        vertical-align: middle;\n",
              "    }\n",
              "\n",
              "    .dataframe tbody tr th {\n",
              "        vertical-align: top;\n",
              "    }\n",
              "\n",
              "    .dataframe thead th {\n",
              "        text-align: right;\n",
              "    }\n",
              "</style>\n",
              "<table border=\"1\" class=\"dataframe\">\n",
              "  <thead>\n",
              "    <tr style=\"text-align: right;\">\n",
              "      <th></th>\n",
              "      <th>repo1</th>\n",
              "      <th>repo2</th>\n",
              "      <th>topic1</th>\n",
              "      <th>topic2</th>\n",
              "      <th>code_sim</th>\n",
              "      <th>doc_sim</th>\n",
              "      <th>avg_sim</th>\n",
              "    </tr>\n",
              "  </thead>\n",
              "  <tbody>\n",
              "    <tr>\n",
              "      <th>0</th>\n",
              "      <td>lepture/authlib</td>\n",
              "      <td>idan/oauthlib</td>\n",
              "      <td>OAuth</td>\n",
              "      <td>OAuth</td>\n",
              "      <td>0.936125</td>\n",
              "      <td>0.959024</td>\n",
              "      <td>0.947574</td>\n",
              "    </tr>\n",
              "    <tr>\n",
              "      <th>1</th>\n",
              "      <td>evonove/django-oauth-toolkit</td>\n",
              "      <td>idan/oauthlib</td>\n",
              "      <td>OAuth</td>\n",
              "      <td>OAuth</td>\n",
              "      <td>0.922530</td>\n",
              "      <td>0.932178</td>\n",
              "      <td>0.927354</td>\n",
              "    </tr>\n",
              "    <tr>\n",
              "      <th>2</th>\n",
              "      <td>idan/oauthlib</td>\n",
              "      <td>joestump/python-oauth2</td>\n",
              "      <td>OAuth</td>\n",
              "      <td>OAuth</td>\n",
              "      <td>0.879883</td>\n",
              "      <td>0.919387</td>\n",
              "      <td>0.899635</td>\n",
              "    </tr>\n",
              "    <tr>\n",
              "      <th>3</th>\n",
              "      <td>keon/algorithms</td>\n",
              "      <td>TheAlgorithms/Python</td>\n",
              "      <td>Algorithms</td>\n",
              "      <td>Algorithms</td>\n",
              "      <td>0.895993</td>\n",
              "      <td>0.900286</td>\n",
              "      <td>0.898139</td>\n",
              "    </tr>\n",
              "    <tr>\n",
              "      <th>4</th>\n",
              "      <td>lepture/authlib</td>\n",
              "      <td>evonove/django-oauth-toolkit</td>\n",
              "      <td>OAuth</td>\n",
              "      <td>OAuth</td>\n",
              "      <td>0.891102</td>\n",
              "      <td>0.878009</td>\n",
              "      <td>0.884556</td>\n",
              "    </tr>\n",
              "    <tr>\n",
              "      <th>...</th>\n",
              "      <td>...</td>\n",
              "      <td>...</td>\n",
              "      <td>...</td>\n",
              "      <td>...</td>\n",
              "      <td>...</td>\n",
              "      <td>...</td>\n",
              "      <td>...</td>\n",
              "    </tr>\n",
              "    <tr>\n",
              "      <th>346</th>\n",
              "      <td>sergree/matchering</td>\n",
              "      <td>lepture/authlib</td>\n",
              "      <td>Audio</td>\n",
              "      <td>OAuth</td>\n",
              "      <td>-0.036973</td>\n",
              "      <td>NaN</td>\n",
              "      <td>-0.036973</td>\n",
              "    </tr>\n",
              "    <tr>\n",
              "      <th>347</th>\n",
              "      <td>sergree/matchering</td>\n",
              "      <td>omab/python-social-auth</td>\n",
              "      <td>Audio</td>\n",
              "      <td>OAuth</td>\n",
              "      <td>-0.047977</td>\n",
              "      <td>NaN</td>\n",
              "      <td>-0.047977</td>\n",
              "    </tr>\n",
              "    <tr>\n",
              "      <th>348</th>\n",
              "      <td>sergree/matchering</td>\n",
              "      <td>evonove/django-oauth-toolkit</td>\n",
              "      <td>Audio</td>\n",
              "      <td>OAuth</td>\n",
              "      <td>-0.061241</td>\n",
              "      <td>NaN</td>\n",
              "      <td>-0.061241</td>\n",
              "    </tr>\n",
              "    <tr>\n",
              "      <th>349</th>\n",
              "      <td>sergree/matchering</td>\n",
              "      <td>s3tools/s3cmd</td>\n",
              "      <td>Audio</td>\n",
              "      <td>Downloader</td>\n",
              "      <td>-0.061914</td>\n",
              "      <td>NaN</td>\n",
              "      <td>-0.061914</td>\n",
              "    </tr>\n",
              "    <tr>\n",
              "      <th>350</th>\n",
              "      <td>sergree/matchering</td>\n",
              "      <td>pennersr/django-allauth</td>\n",
              "      <td>Audio</td>\n",
              "      <td>OAuth</td>\n",
              "      <td>-0.127733</td>\n",
              "      <td>NaN</td>\n",
              "      <td>-0.127733</td>\n",
              "    </tr>\n",
              "  </tbody>\n",
              "</table>\n",
              "<p>351 rows × 7 columns</p>\n",
              "</div>\n",
              "      <button class=\"colab-df-convert\" onclick=\"convertToInteractive('df-d8ebeecb-f3c7-4184-b0f7-f28b36238a13')\"\n",
              "              title=\"Convert this dataframe to an interactive table.\"\n",
              "              style=\"display:none;\">\n",
              "        \n",
              "  <svg xmlns=\"http://www.w3.org/2000/svg\" height=\"24px\"viewBox=\"0 0 24 24\"\n",
              "       width=\"24px\">\n",
              "    <path d=\"M0 0h24v24H0V0z\" fill=\"none\"/>\n",
              "    <path d=\"M18.56 5.44l.94 2.06.94-2.06 2.06-.94-2.06-.94-.94-2.06-.94 2.06-2.06.94zm-11 1L8.5 8.5l.94-2.06 2.06-.94-2.06-.94L8.5 2.5l-.94 2.06-2.06.94zm10 10l.94 2.06.94-2.06 2.06-.94-2.06-.94-.94-2.06-.94 2.06-2.06.94z\"/><path d=\"M17.41 7.96l-1.37-1.37c-.4-.4-.92-.59-1.43-.59-.52 0-1.04.2-1.43.59L10.3 9.45l-7.72 7.72c-.78.78-.78 2.05 0 2.83L4 21.41c.39.39.9.59 1.41.59.51 0 1.02-.2 1.41-.59l7.78-7.78 2.81-2.81c.8-.78.8-2.07 0-2.86zM5.41 20L4 18.59l7.72-7.72 1.47 1.35L5.41 20z\"/>\n",
              "  </svg>\n",
              "      </button>\n",
              "      \n",
              "  <style>\n",
              "    .colab-df-container {\n",
              "      display:flex;\n",
              "      flex-wrap:wrap;\n",
              "      gap: 12px;\n",
              "    }\n",
              "\n",
              "    .colab-df-convert {\n",
              "      background-color: #E8F0FE;\n",
              "      border: none;\n",
              "      border-radius: 50%;\n",
              "      cursor: pointer;\n",
              "      display: none;\n",
              "      fill: #1967D2;\n",
              "      height: 32px;\n",
              "      padding: 0 0 0 0;\n",
              "      width: 32px;\n",
              "    }\n",
              "\n",
              "    .colab-df-convert:hover {\n",
              "      background-color: #E2EBFA;\n",
              "      box-shadow: 0px 1px 2px rgba(60, 64, 67, 0.3), 0px 1px 3px 1px rgba(60, 64, 67, 0.15);\n",
              "      fill: #174EA6;\n",
              "    }\n",
              "\n",
              "    [theme=dark] .colab-df-convert {\n",
              "      background-color: #3B4455;\n",
              "      fill: #D2E3FC;\n",
              "    }\n",
              "\n",
              "    [theme=dark] .colab-df-convert:hover {\n",
              "      background-color: #434B5C;\n",
              "      box-shadow: 0px 1px 3px 1px rgba(0, 0, 0, 0.15);\n",
              "      filter: drop-shadow(0px 1px 2px rgba(0, 0, 0, 0.3));\n",
              "      fill: #FFFFFF;\n",
              "    }\n",
              "  </style>\n",
              "\n",
              "      <script>\n",
              "        const buttonEl =\n",
              "          document.querySelector('#df-d8ebeecb-f3c7-4184-b0f7-f28b36238a13 button.colab-df-convert');\n",
              "        buttonEl.style.display =\n",
              "          google.colab.kernel.accessAllowed ? 'block' : 'none';\n",
              "\n",
              "        async function convertToInteractive(key) {\n",
              "          const element = document.querySelector('#df-d8ebeecb-f3c7-4184-b0f7-f28b36238a13');\n",
              "          const dataTable =\n",
              "            await google.colab.kernel.invokeFunction('convertToInteractive',\n",
              "                                                     [key], {});\n",
              "          if (!dataTable) return;\n",
              "\n",
              "          const docLinkHtml = 'Like what you see? Visit the ' +\n",
              "            '<a target=\"_blank\" href=https://colab.research.google.com/notebooks/data_table.ipynb>data table notebook</a>'\n",
              "            + ' to learn more about interactive tables.';\n",
              "          element.innerHTML = '';\n",
              "          dataTable['output_type'] = 'display_data';\n",
              "          await google.colab.output.renderOutput(dataTable, element);\n",
              "          const docLink = document.createElement('div');\n",
              "          docLink.innerHTML = docLinkHtml;\n",
              "          element.appendChild(docLink);\n",
              "        }\n",
              "      </script>\n",
              "    </div>\n",
              "  </div>\n",
              "  "
            ]
          },
          "metadata": {},
          "execution_count": 14
        }
      ],
      "source": [
        "# Sort the table based on average similarity and save it\n",
        "df = df.sort_values(\"avg_sim\", ascending=False).reset_index(drop=True)\n",
        "df.to_csv(\"eval_res.csv\", index=False)\n",
        "\n",
        "df"
      ]
    }
  ],
  "metadata": {
    "accelerator": "GPU",
    "colab": {
      "provenance": [],
      "include_colab_link": true
    },
    "gpuClass": "standard",
    "kernelspec": {
      "display_name": "Python 3",
      "name": "python3"
    },
    "language_info": {
      "name": "python"
    }
  },
  "nbformat": 4,
  "nbformat_minor": 0
}