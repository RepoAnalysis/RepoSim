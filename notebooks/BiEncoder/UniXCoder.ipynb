{
  "nbformat": 4,
  "nbformat_minor": 0,
  "metadata": {
    "colab": {
      "provenance": [],
      "include_colab_link": true
    },
    "kernelspec": {
      "name": "python3",
      "display_name": "Python 3"
    },
    "language_info": {
      "name": "python"
    },
    "gpuClass": "standard",
    "accelerator": "GPU"
  },
  "cells": [
    {
      "cell_type": "markdown",
      "metadata": {
        "id": "view-in-github",
        "colab_type": "text"
      },
      "source": [
        "<a href=\"https://colab.research.google.com/github/RepoAnalysis/RepoSim/blob/main/notebooks/BiEncoder/UniXCoder.ipynb\" target=\"_parent\"><img src=\"https://colab.research.google.com/assets/colab-badge.svg\" alt=\"Open In Colab\"/></a>"
      ]
    },
    {
      "cell_type": "markdown",
      "metadata": {
        "id": "6KAFzXUV1I8B"
      },
      "source": [
        "### Install `inspect4py` using Python 3.9"
      ]
    },
    {
      "cell_type": "code",
      "source": [
        "# Install python 3.9 on colab\n",
        "!sudo apt-get update -y\n",
        "!sudo apt-get install python3.9 python3-pip"
      ],
      "metadata": {
        "id": "qNR2RNe9ExHr"
      },
      "execution_count": null,
      "outputs": []
    },
    {
      "cell_type": "code",
      "execution_count": null,
      "metadata": {
        "id": "HRbme9xOy5PQ"
      },
      "outputs": [],
      "source": [
        "# Install inspect4py\n",
        "!git clone https://github.com/SoftwareUnderstanding/inspect4py.git\n",
        "%cd inspect4py\n",
        "!git checkout dev\n",
        "!python3.9 -m pip install -r requirements.txt && python3.9 setup.py install\n",
        "%cd /content/"
      ]
    },
    {
      "cell_type": "code",
      "source": [
        "!inspect4py --version"
      ],
      "metadata": {
        "id": "4MJYG4eWG0pQ",
        "colab": {
          "base_uri": "https://localhost:8080/"
        },
        "outputId": "d295cbdd-395a-41d7-f167-5153547c0fd5"
      },
      "execution_count": 3,
      "outputs": [
        {
          "output_type": "stream",
          "name": "stdout",
          "text": [
            "inspect4py, version 0.0.6\n"
          ]
        }
      ]
    },
    {
      "cell_type": "markdown",
      "metadata": {
        "id": "Eh1yfA0-Dt-f"
      },
      "source": [
        "### Download test repositories and run inspect4py on them"
      ]
    },
    {
      "cell_type": "code",
      "execution_count": 4,
      "metadata": {
        "id": "_G--A3sT61LR"
      },
      "outputs": [],
      "source": [
        "REPOS = {\n",
        "    'keon/algorithms': 'Algorithms',\n",
        "    'prabhupant/python-ds': 'Algorithms',\n",
        "    'grantjenks/python-sortedcontainers': 'Algorithms',\n",
        "    'TheAlgorithms/Python': 'Algorithms',\n",
        "    'beetbox/audioread': 'Audio',\n",
        "    'worldveil/dejavu': 'Audio',\n",
        "    'keunwoochoi/kapre': 'Audio',\n",
        "    'librosa/librosa': 'Audio',\n",
        "    'sergree/matchering': 'Audio',\n",
        "    'tyiannak/pyAudioAnalysis': 'Audio',\n",
        "    'jiaaro/pydub': 'Audio',\n",
        "    'Parisson/TimeSide': 'Audio',\n",
        "    'lepture/authlib': 'OAuth',\n",
        "    'pennersr/django-allauth': 'OAuth',\n",
        "    'evonove/django-oauth-toolkit': 'OAuth',\n",
        "    'idan/oauthlib': 'OAuth',\n",
        "    'joestump/python-oauth2': 'OAuth',\n",
        "    'omab/python-social-auth': 'OAuth',\n",
        "    'paramiko/paramiko': 'Cryptography',\n",
        "    'pyca/pynacl': 'Cryptography',\n",
        "    'jindaxiang/akshare': 'Downloader',\n",
        "    's3tools/s3cmd': 'Downloader',\n",
        "    'bloomreach/s4cmd': 'Downloader',\n",
        "    'euske/pdfminer': 'PDF',\n",
        "    'mstamy2/PyPDF2': 'PDF',\n",
        "    'lepture/mistune': 'Markdown',\n",
        "    'waylan/Python-Markdown': 'Markdown'\n",
        "}"
      ]
    },
    {
      "cell_type": "code",
      "source": [
        "!mkdir -p /content/output\n",
        "%cd /content/\n",
        "for repo in REPOS:\n",
        "    !mkdir -p {repo} && git clone {f\"https://github.com/{repo}.git\"} {repo}\n",
        "    !inspect4py -i /content/{repo} -o /content/output/{repo} -sc -rm"
      ],
      "metadata": {
        "id": "JOi6Ojhu8uCY"
      },
      "execution_count": null,
      "outputs": []
    },
    {
      "cell_type": "markdown",
      "source": [
        "### Extract docstrings and functions from repositories."
      ],
      "metadata": {
        "id": "tXCNJRtRKQXP"
      }
    },
    {
      "cell_type": "code",
      "execution_count": 6,
      "metadata": {
        "id": "F-89vQxSFR4s"
      },
      "outputs": [],
      "source": [
        "import json\n",
        "\n",
        "def funcs_to_lists(funcs, func_codes, docs):\n",
        "    for func_name, func_info in funcs.items():\n",
        "        if func_info.get(\"source_code\") is not None:\n",
        "            func_codes.append(func_info[\"source_code\"])\n",
        "        if func_info.get(\"doc\") is None:\n",
        "            continue\n",
        "        for key in [\"full\", \"long_description\", \"short_description\"]:\n",
        "            if func_info[\"doc\"].get(key) is not None:\n",
        "                docs.append(f\"{func_name} {func_info['doc'].get(key)}\")\n",
        "                break\n",
        "\n",
        "\n",
        "def file_to_lists(filename):\n",
        "    func_codes = []\n",
        "    docs = []\n",
        "    with open(filename, \"r\") as f:\n",
        "        dic = json.load(f)\n",
        "    dic.pop(\"readme_files\", None)\n",
        "    for dir_name, files in dic.items():\n",
        "        for file in files:\n",
        "            if file.get(\"functions\") is not None:\n",
        "                funcs_to_lists(file[\"functions\"], func_codes, docs)\n",
        "            if file.get(\"classes\") is not None:\n",
        "                for class_name, class_info in file[\"classes\"].items():\n",
        "                    if class_info.get(\"methods\") is not None:\n",
        "                        funcs_to_lists(class_info[\"methods\"], func_codes, docs)\n",
        "\n",
        "    return func_codes, docs\n"
      ]
    },
    {
      "cell_type": "code",
      "source": [
        "repo_info = {}\n",
        "for repo, topic in REPOS.items():\n",
        "    repo_info[repo] = {}\n",
        "\n",
        "    function_list, docstring_list = file_to_lists(f\"/content/output/{repo}/directory_info.json\")\n",
        "    repo_info[repo][\"docs\"] = docstring_list\n",
        "    repo_info[repo][\"funcs\"] = function_list\n",
        "    repo_info[repo][\"topic\"] = topic"
      ],
      "metadata": {
        "id": "zw0cKz1nKXE1"
      },
      "execution_count": 7,
      "outputs": []
    },
    {
      "cell_type": "markdown",
      "source": [
        "### Download UniXCoder, fine-tuned model and install requirements"
      ],
      "metadata": {
        "id": "FdvlATGULNoX"
      }
    },
    {
      "cell_type": "code",
      "source": [
        "%cd /content/\n",
        "%pip install -U sentence-transformers transformers scikit-learn tqdm gdown\n",
        "!wget https://raw.githubusercontent.com/microsoft/CodeBERT/master/UniXcoder/unixcoder.py \n",
        "!gdown https://drive.google.com/uc?id=145yr1gjWsdMMqstxLyM-fntie5xpWPHo&export=download"
      ],
      "metadata": {
        "id": "UoFGZj12LS-p"
      },
      "execution_count": null,
      "outputs": []
    },
    {
      "cell_type": "markdown",
      "source": [
        "### Generate embeddings for all repositories"
      ],
      "metadata": {
        "id": "hFbvNb3aMkJT"
      }
    },
    {
      "cell_type": "code",
      "source": [
        "import torch\n",
        "from unixcoder import UniXcoder\n",
        "from transformers import RobertaModel\n",
        "from sentence_transformers import SentenceTransformer\n",
        "\n",
        "device = torch.device(\"cuda\" if torch.cuda.is_available() else \"cpu\")\n",
        "doc_model = SentenceTransformer(\"paraphrase-multilingual-mpnet-base-v2\", device=device)\n",
        "\n",
        "class CodeSearchModel(torch.nn.Module):   \n",
        "    def __init__(self, encoder):\n",
        "        super(CodeSearchModel, self).__init__()\n",
        "        self.encoder = encoder\n",
        "      \n",
        "    def forward(self, code_inputs): \n",
        "        outputs = self.encoder(code_inputs,attention_mask=code_inputs.ne(1))[0]\n",
        "        outputs = (outputs*code_inputs.ne(1)[:,:,None]).sum(1)/code_inputs.ne(1).sum(-1)[:,None]\n",
        "        return torch.nn.functional.normalize(outputs, p=2, dim=1)\n",
        "\n",
        "# Load the fine-tuned nl code search model\n",
        "fine_tuned_model = CodeSearchModel(RobertaModel.from_pretrained(\"microsoft/unixcoder-base-nine\"))\n",
        "fine_tuned_model.load_state_dict(torch.load(\"/content/CodeSearch-AdvTest.bin\", map_location=device))\n",
        "\n",
        "code_model = UniXcoder(\"microsoft/unixcoder-base-nine\")\n",
        "code_model.model = fine_tuned_model.encoder\n",
        "code_model.to(device)\n",
        "\n",
        "def get_code_embeddings(code):\n",
        "    tokens_ids = code_model.tokenize([code], max_length=512, mode=\"<encoder-only>\")\n",
        "    source_ids = torch.tensor(tokens_ids).to(device)\n",
        "    _, embeddings = code_model(source_ids)\n",
        "\n",
        "    return embeddings\n",
        "\n",
        "def get_repo_embeddings(lst, input_type):\n",
        "    if not lst:\n",
        "        return None\n",
        "    with torch.no_grad():\n",
        "        if input_type == \"code\":\n",
        "            embeddings_list = torch.concat([get_code_embeddings(code) for code in lst])\n",
        "        elif input_type == \"doc\":\n",
        "            embeddings_list = doc_model.encode(lst, convert_to_tensor=True)\n",
        "    \n",
        "        mean_embeddings = torch.mean(embeddings_list, axis=0)\n",
        "\n",
        "    return mean_embeddings"
      ],
      "metadata": {
        "id": "DrW-OrzpLL7F"
      },
      "execution_count": 9,
      "outputs": []
    },
    {
      "cell_type": "code",
      "source": [
        "from tqdm import tqdm\n",
        "\n",
        "\n",
        "# Generate code and docstring embeddings for all repositories\n",
        "for repo_name, repo_dict in tqdm(repo_info.items()):\n",
        "    print(f\" - Generating embeddings for {repo_name} - \")\n",
        "    if repo_dict.get(\"code_embeddings\") is None:\n",
        "        repo_dict[\"code_embeddings\"] = get_repo_embeddings(repo_dict[\"funcs\"], input_type=\"code\")\n",
        "    if repo_dict.get(\"doc_embeddings\") is None:\n",
        "        repo_dict[\"doc_embeddings\"] = get_repo_embeddings(repo_dict[\"docs\"], input_type=\"doc\")"
      ],
      "metadata": {
        "id": "a2fVESKCIBLn",
        "colab": {
          "base_uri": "https://localhost:8080/"
        },
        "outputId": "9298c848-766a-4950-f89e-68936ff4bf13"
      },
      "execution_count": 10,
      "outputs": [
        {
          "output_type": "stream",
          "name": "stderr",
          "text": [
            "\r  0%|          | 0/27 [00:00<?, ?it/s]"
          ]
        },
        {
          "output_type": "stream",
          "name": "stdout",
          "text": [
            " - Generating embeddings for keon/algorithms - \n"
          ]
        },
        {
          "output_type": "stream",
          "name": "stderr",
          "text": [
            "\r  4%|▎         | 1/27 [00:29<12:34, 29.04s/it]"
          ]
        },
        {
          "output_type": "stream",
          "name": "stdout",
          "text": [
            " - Generating embeddings for prabhupant/python-ds - \n"
          ]
        },
        {
          "output_type": "stream",
          "name": "stderr",
          "text": [
            "\r  7%|▋         | 2/27 [00:34<06:21, 15.25s/it]"
          ]
        },
        {
          "output_type": "stream",
          "name": "stdout",
          "text": [
            " - Generating embeddings for grantjenks/python-sortedcontainers - \n"
          ]
        },
        {
          "output_type": "stream",
          "name": "stderr",
          "text": [
            "\r 11%|█         | 3/27 [00:40<04:26, 11.10s/it]"
          ]
        },
        {
          "output_type": "stream",
          "name": "stdout",
          "text": [
            " - Generating embeddings for TheAlgorithms/Python - \n"
          ]
        },
        {
          "output_type": "stream",
          "name": "stderr",
          "text": [
            "\r 15%|█▍        | 4/27 [01:42<11:56, 31.13s/it]"
          ]
        },
        {
          "output_type": "stream",
          "name": "stdout",
          "text": [
            " - Generating embeddings for beetbox/audioread - \n"
          ]
        },
        {
          "output_type": "stream",
          "name": "stderr",
          "text": [
            "\r 19%|█▊        | 5/27 [01:45<07:38, 20.84s/it]"
          ]
        },
        {
          "output_type": "stream",
          "name": "stdout",
          "text": [
            " - Generating embeddings for worldveil/dejavu - \n"
          ]
        },
        {
          "output_type": "stream",
          "name": "stderr",
          "text": [
            "\r 22%|██▏       | 6/27 [01:47<05:06, 14.59s/it]"
          ]
        },
        {
          "output_type": "stream",
          "name": "stdout",
          "text": [
            " - Generating embeddings for keunwoochoi/kapre - \n"
          ]
        },
        {
          "output_type": "stream",
          "name": "stderr",
          "text": [
            "\r 26%|██▌       | 7/27 [01:50<03:33, 10.66s/it]"
          ]
        },
        {
          "output_type": "stream",
          "name": "stdout",
          "text": [
            " - Generating embeddings for librosa/librosa - \n"
          ]
        },
        {
          "output_type": "stream",
          "name": "stderr",
          "text": [
            "\r 30%|██▉       | 8/27 [02:09<04:14, 13.37s/it]"
          ]
        },
        {
          "output_type": "stream",
          "name": "stdout",
          "text": [
            " - Generating embeddings for sergree/matchering - \n"
          ]
        },
        {
          "output_type": "stream",
          "name": "stderr",
          "text": [
            "\r 33%|███▎      | 9/27 [02:10<02:52,  9.61s/it]"
          ]
        },
        {
          "output_type": "stream",
          "name": "stdout",
          "text": [
            " - Generating embeddings for tyiannak/pyAudioAnalysis - \n"
          ]
        },
        {
          "output_type": "stream",
          "name": "stderr",
          "text": [
            "\r 37%|███▋      | 10/27 [02:12<02:02,  7.19s/it]"
          ]
        },
        {
          "output_type": "stream",
          "name": "stdout",
          "text": [
            " - Generating embeddings for jiaaro/pydub - \n"
          ]
        },
        {
          "output_type": "stream",
          "name": "stderr",
          "text": [
            "\r 41%|████      | 11/27 [02:15<01:34,  5.88s/it]"
          ]
        },
        {
          "output_type": "stream",
          "name": "stdout",
          "text": [
            " - Generating embeddings for Parisson/TimeSide - \n"
          ]
        },
        {
          "output_type": "stream",
          "name": "stderr",
          "text": [
            "\r 44%|████▍     | 12/27 [02:32<02:17,  9.16s/it]"
          ]
        },
        {
          "output_type": "stream",
          "name": "stdout",
          "text": [
            " - Generating embeddings for lepture/authlib - \n"
          ]
        },
        {
          "output_type": "stream",
          "name": "stderr",
          "text": [
            "\r 48%|████▊     | 13/27 [02:57<03:16, 14.05s/it]"
          ]
        },
        {
          "output_type": "stream",
          "name": "stdout",
          "text": [
            " - Generating embeddings for pennersr/django-allauth - \n"
          ]
        },
        {
          "output_type": "stream",
          "name": "stderr",
          "text": [
            "\r 52%|█████▏    | 14/27 [03:20<03:37, 16.69s/it]"
          ]
        },
        {
          "output_type": "stream",
          "name": "stdout",
          "text": [
            " - Generating embeddings for evonove/django-oauth-toolkit - \n"
          ]
        },
        {
          "output_type": "stream",
          "name": "stderr",
          "text": [
            "\r 56%|█████▌    | 15/27 [03:32<03:03, 15.29s/it]"
          ]
        },
        {
          "output_type": "stream",
          "name": "stdout",
          "text": [
            " - Generating embeddings for idan/oauthlib - \n"
          ]
        },
        {
          "output_type": "stream",
          "name": "stderr",
          "text": [
            "\r 59%|█████▉    | 16/27 [03:48<02:51, 15.63s/it]"
          ]
        },
        {
          "output_type": "stream",
          "name": "stdout",
          "text": [
            " - Generating embeddings for joestump/python-oauth2 - \n"
          ]
        },
        {
          "output_type": "stream",
          "name": "stderr",
          "text": [
            "\r 63%|██████▎   | 17/27 [03:52<01:59, 11.97s/it]"
          ]
        },
        {
          "output_type": "stream",
          "name": "stdout",
          "text": [
            " - Generating embeddings for omab/python-social-auth - \n"
          ]
        },
        {
          "output_type": "stream",
          "name": "stderr",
          "text": [
            "\r 67%|██████▋   | 18/27 [03:57<01:29,  9.92s/it]"
          ]
        },
        {
          "output_type": "stream",
          "name": "stdout",
          "text": [
            " - Generating embeddings for paramiko/paramiko - \n"
          ]
        },
        {
          "output_type": "stream",
          "name": "stderr",
          "text": [
            "\r 70%|███████   | 19/27 [04:09<01:23, 10.48s/it]"
          ]
        },
        {
          "output_type": "stream",
          "name": "stdout",
          "text": [
            " - Generating embeddings for pyca/pynacl - \n"
          ]
        },
        {
          "output_type": "stream",
          "name": "stderr",
          "text": [
            "\r 74%|███████▍  | 20/27 [04:16<01:06,  9.47s/it]"
          ]
        },
        {
          "output_type": "stream",
          "name": "stdout",
          "text": [
            " - Generating embeddings for jindaxiang/akshare - \n"
          ]
        },
        {
          "output_type": "stream",
          "name": "stderr",
          "text": [
            "\r 78%|███████▊  | 21/27 [04:51<01:44, 17.37s/it]"
          ]
        },
        {
          "output_type": "stream",
          "name": "stdout",
          "text": [
            " - Generating embeddings for s3tools/s3cmd - \n"
          ]
        },
        {
          "output_type": "stream",
          "name": "stderr",
          "text": [
            "\r 81%|████████▏ | 22/27 [04:54<01:04, 12.87s/it]"
          ]
        },
        {
          "output_type": "stream",
          "name": "stdout",
          "text": [
            " - Generating embeddings for bloomreach/s4cmd - \n"
          ]
        },
        {
          "output_type": "stream",
          "name": "stderr",
          "text": [
            " 89%|████████▉ | 24/27 [04:54<00:19,  6.39s/it]"
          ]
        },
        {
          "output_type": "stream",
          "name": "stdout",
          "text": [
            " - Generating embeddings for euske/pdfminer - \n",
            " - Generating embeddings for mstamy2/PyPDF2 - \n"
          ]
        },
        {
          "output_type": "stream",
          "name": "stderr",
          "text": [
            "\r 93%|█████████▎| 25/27 [05:04<00:14,  7.38s/it]"
          ]
        },
        {
          "output_type": "stream",
          "name": "stdout",
          "text": [
            " - Generating embeddings for lepture/mistune - \n"
          ]
        },
        {
          "output_type": "stream",
          "name": "stderr",
          "text": [
            "\r 96%|█████████▋| 26/27 [05:09<00:06,  6.58s/it]"
          ]
        },
        {
          "output_type": "stream",
          "name": "stdout",
          "text": [
            " - Generating embeddings for waylan/Python-Markdown - \n"
          ]
        },
        {
          "output_type": "stream",
          "name": "stderr",
          "text": [
            "100%|██████████| 27/27 [05:23<00:00, 11.97s/it]\n"
          ]
        }
      ]
    },
    {
      "cell_type": "markdown",
      "source": [
        "### Experiments"
      ],
      "metadata": {
        "id": "9g0VavLEPK7z"
      }
    },
    {
      "cell_type": "code",
      "source": [
        "from itertools import combinations\n",
        "\n",
        "cosim = torch.nn.CosineSimilarity(dim=0, eps=1e-8)\n",
        "res = []\n",
        "for repo1, repo2 in combinations(REPOS, 2):\n",
        "    code_embeddings1 = repo_info[repo1][\"code_embeddings\"]\n",
        "    code_embeddings2 = repo_info[repo2][\"code_embeddings\"]\n",
        "    if code_embeddings1 is None or code_embeddings2 is None:\n",
        "        code_similarity = None\n",
        "    else:\n",
        "        code_similarity = cosim(code_embeddings1, code_embeddings2).cpu().detach().numpy().item()\n",
        "\n",
        "    doc_embeddings1 = repo_info[repo1][\"doc_embeddings\"]\n",
        "    doc_embeddings2 = repo_info[repo2][\"doc_embeddings\"]\n",
        "    if doc_embeddings1 is None or doc_embeddings2 is None:\n",
        "        doc_similarity = None\n",
        "    else:\n",
        "        doc_similarity = cosim(doc_embeddings1, doc_embeddings2).cpu().detach().numpy().item()\n",
        "\n",
        "    topic1 = repo_info[repo1][\"topic\"]\n",
        "    topic2 = repo_info[repo2][\"topic\"]\n",
        "\n",
        "    res.append((repo1, repo2, topic1, topic2, code_similarity, doc_similarity))"
      ],
      "metadata": {
        "id": "fbx6Ac5MMOj1"
      },
      "execution_count": 11,
      "outputs": []
    },
    {
      "cell_type": "code",
      "source": [
        "import pandas as pd\n",
        "\n",
        "df = pd.DataFrame(res, columns=[\"repo1\", \"repo2\", \"topic1\", \"topic2\", \"code_sim\", \"doc_sim\"])\n",
        "df"
      ],
      "metadata": {
        "id": "i-zwEMMRvhlC",
        "colab": {
          "base_uri": "https://localhost:8080/",
          "height": 419
        },
        "outputId": "372a48f0-be84-4257-c262-f85b90947481"
      },
      "execution_count": 12,
      "outputs": [
        {
          "output_type": "execute_result",
          "data": {
            "text/plain": [
              "               repo1                               repo2      topic1  \\\n",
              "0    keon/algorithms                prabhupant/python-ds  Algorithms   \n",
              "1    keon/algorithms  grantjenks/python-sortedcontainers  Algorithms   \n",
              "2    keon/algorithms                TheAlgorithms/Python  Algorithms   \n",
              "3    keon/algorithms                   beetbox/audioread  Algorithms   \n",
              "4    keon/algorithms                    worldveil/dejavu  Algorithms   \n",
              "..               ...                                 ...         ...   \n",
              "346   euske/pdfminer                     lepture/mistune         PDF   \n",
              "347   euske/pdfminer              waylan/Python-Markdown         PDF   \n",
              "348   mstamy2/PyPDF2                     lepture/mistune         PDF   \n",
              "349   mstamy2/PyPDF2              waylan/Python-Markdown         PDF   \n",
              "350  lepture/mistune              waylan/Python-Markdown    Markdown   \n",
              "\n",
              "         topic2  code_sim   doc_sim  \n",
              "0    Algorithms  0.778547  0.879596  \n",
              "1    Algorithms  0.727102  0.867281  \n",
              "2    Algorithms  0.895993  0.900286  \n",
              "3         Audio  0.008753  0.471483  \n",
              "4         Audio  0.176522  0.522964  \n",
              "..          ...       ...       ...  \n",
              "346    Markdown  0.294981  0.450331  \n",
              "347    Markdown  0.305095  0.414341  \n",
              "348    Markdown  0.333942  0.780140  \n",
              "349    Markdown  0.532385  0.814950  \n",
              "350    Markdown  0.807583  0.813804  \n",
              "\n",
              "[351 rows x 6 columns]"
            ],
            "text/html": [
              "\n",
              "  <div id=\"df-f907d704-c741-4364-8ee0-3b79acf48969\">\n",
              "    <div class=\"colab-df-container\">\n",
              "      <div>\n",
              "<style scoped>\n",
              "    .dataframe tbody tr th:only-of-type {\n",
              "        vertical-align: middle;\n",
              "    }\n",
              "\n",
              "    .dataframe tbody tr th {\n",
              "        vertical-align: top;\n",
              "    }\n",
              "\n",
              "    .dataframe thead th {\n",
              "        text-align: right;\n",
              "    }\n",
              "</style>\n",
              "<table border=\"1\" class=\"dataframe\">\n",
              "  <thead>\n",
              "    <tr style=\"text-align: right;\">\n",
              "      <th></th>\n",
              "      <th>repo1</th>\n",
              "      <th>repo2</th>\n",
              "      <th>topic1</th>\n",
              "      <th>topic2</th>\n",
              "      <th>code_sim</th>\n",
              "      <th>doc_sim</th>\n",
              "    </tr>\n",
              "  </thead>\n",
              "  <tbody>\n",
              "    <tr>\n",
              "      <th>0</th>\n",
              "      <td>keon/algorithms</td>\n",
              "      <td>prabhupant/python-ds</td>\n",
              "      <td>Algorithms</td>\n",
              "      <td>Algorithms</td>\n",
              "      <td>0.778547</td>\n",
              "      <td>0.879596</td>\n",
              "    </tr>\n",
              "    <tr>\n",
              "      <th>1</th>\n",
              "      <td>keon/algorithms</td>\n",
              "      <td>grantjenks/python-sortedcontainers</td>\n",
              "      <td>Algorithms</td>\n",
              "      <td>Algorithms</td>\n",
              "      <td>0.727102</td>\n",
              "      <td>0.867281</td>\n",
              "    </tr>\n",
              "    <tr>\n",
              "      <th>2</th>\n",
              "      <td>keon/algorithms</td>\n",
              "      <td>TheAlgorithms/Python</td>\n",
              "      <td>Algorithms</td>\n",
              "      <td>Algorithms</td>\n",
              "      <td>0.895993</td>\n",
              "      <td>0.900286</td>\n",
              "    </tr>\n",
              "    <tr>\n",
              "      <th>3</th>\n",
              "      <td>keon/algorithms</td>\n",
              "      <td>beetbox/audioread</td>\n",
              "      <td>Algorithms</td>\n",
              "      <td>Audio</td>\n",
              "      <td>0.008753</td>\n",
              "      <td>0.471483</td>\n",
              "    </tr>\n",
              "    <tr>\n",
              "      <th>4</th>\n",
              "      <td>keon/algorithms</td>\n",
              "      <td>worldveil/dejavu</td>\n",
              "      <td>Algorithms</td>\n",
              "      <td>Audio</td>\n",
              "      <td>0.176522</td>\n",
              "      <td>0.522964</td>\n",
              "    </tr>\n",
              "    <tr>\n",
              "      <th>...</th>\n",
              "      <td>...</td>\n",
              "      <td>...</td>\n",
              "      <td>...</td>\n",
              "      <td>...</td>\n",
              "      <td>...</td>\n",
              "      <td>...</td>\n",
              "    </tr>\n",
              "    <tr>\n",
              "      <th>346</th>\n",
              "      <td>euske/pdfminer</td>\n",
              "      <td>lepture/mistune</td>\n",
              "      <td>PDF</td>\n",
              "      <td>Markdown</td>\n",
              "      <td>0.294981</td>\n",
              "      <td>0.450331</td>\n",
              "    </tr>\n",
              "    <tr>\n",
              "      <th>347</th>\n",
              "      <td>euske/pdfminer</td>\n",
              "      <td>waylan/Python-Markdown</td>\n",
              "      <td>PDF</td>\n",
              "      <td>Markdown</td>\n",
              "      <td>0.305095</td>\n",
              "      <td>0.414341</td>\n",
              "    </tr>\n",
              "    <tr>\n",
              "      <th>348</th>\n",
              "      <td>mstamy2/PyPDF2</td>\n",
              "      <td>lepture/mistune</td>\n",
              "      <td>PDF</td>\n",
              "      <td>Markdown</td>\n",
              "      <td>0.333942</td>\n",
              "      <td>0.780140</td>\n",
              "    </tr>\n",
              "    <tr>\n",
              "      <th>349</th>\n",
              "      <td>mstamy2/PyPDF2</td>\n",
              "      <td>waylan/Python-Markdown</td>\n",
              "      <td>PDF</td>\n",
              "      <td>Markdown</td>\n",
              "      <td>0.532385</td>\n",
              "      <td>0.814950</td>\n",
              "    </tr>\n",
              "    <tr>\n",
              "      <th>350</th>\n",
              "      <td>lepture/mistune</td>\n",
              "      <td>waylan/Python-Markdown</td>\n",
              "      <td>Markdown</td>\n",
              "      <td>Markdown</td>\n",
              "      <td>0.807583</td>\n",
              "      <td>0.813804</td>\n",
              "    </tr>\n",
              "  </tbody>\n",
              "</table>\n",
              "<p>351 rows × 6 columns</p>\n",
              "</div>\n",
              "      <button class=\"colab-df-convert\" onclick=\"convertToInteractive('df-f907d704-c741-4364-8ee0-3b79acf48969')\"\n",
              "              title=\"Convert this dataframe to an interactive table.\"\n",
              "              style=\"display:none;\">\n",
              "        \n",
              "  <svg xmlns=\"http://www.w3.org/2000/svg\" height=\"24px\"viewBox=\"0 0 24 24\"\n",
              "       width=\"24px\">\n",
              "    <path d=\"M0 0h24v24H0V0z\" fill=\"none\"/>\n",
              "    <path d=\"M18.56 5.44l.94 2.06.94-2.06 2.06-.94-2.06-.94-.94-2.06-.94 2.06-2.06.94zm-11 1L8.5 8.5l.94-2.06 2.06-.94-2.06-.94L8.5 2.5l-.94 2.06-2.06.94zm10 10l.94 2.06.94-2.06 2.06-.94-2.06-.94-.94-2.06-.94 2.06-2.06.94z\"/><path d=\"M17.41 7.96l-1.37-1.37c-.4-.4-.92-.59-1.43-.59-.52 0-1.04.2-1.43.59L10.3 9.45l-7.72 7.72c-.78.78-.78 2.05 0 2.83L4 21.41c.39.39.9.59 1.41.59.51 0 1.02-.2 1.41-.59l7.78-7.78 2.81-2.81c.8-.78.8-2.07 0-2.86zM5.41 20L4 18.59l7.72-7.72 1.47 1.35L5.41 20z\"/>\n",
              "  </svg>\n",
              "      </button>\n",
              "      \n",
              "  <style>\n",
              "    .colab-df-container {\n",
              "      display:flex;\n",
              "      flex-wrap:wrap;\n",
              "      gap: 12px;\n",
              "    }\n",
              "\n",
              "    .colab-df-convert {\n",
              "      background-color: #E8F0FE;\n",
              "      border: none;\n",
              "      border-radius: 50%;\n",
              "      cursor: pointer;\n",
              "      display: none;\n",
              "      fill: #1967D2;\n",
              "      height: 32px;\n",
              "      padding: 0 0 0 0;\n",
              "      width: 32px;\n",
              "    }\n",
              "\n",
              "    .colab-df-convert:hover {\n",
              "      background-color: #E2EBFA;\n",
              "      box-shadow: 0px 1px 2px rgba(60, 64, 67, 0.3), 0px 1px 3px 1px rgba(60, 64, 67, 0.15);\n",
              "      fill: #174EA6;\n",
              "    }\n",
              "\n",
              "    [theme=dark] .colab-df-convert {\n",
              "      background-color: #3B4455;\n",
              "      fill: #D2E3FC;\n",
              "    }\n",
              "\n",
              "    [theme=dark] .colab-df-convert:hover {\n",
              "      background-color: #434B5C;\n",
              "      box-shadow: 0px 1px 3px 1px rgba(0, 0, 0, 0.15);\n",
              "      filter: drop-shadow(0px 1px 2px rgba(0, 0, 0, 0.3));\n",
              "      fill: #FFFFFF;\n",
              "    }\n",
              "  </style>\n",
              "\n",
              "      <script>\n",
              "        const buttonEl =\n",
              "          document.querySelector('#df-f907d704-c741-4364-8ee0-3b79acf48969 button.colab-df-convert');\n",
              "        buttonEl.style.display =\n",
              "          google.colab.kernel.accessAllowed ? 'block' : 'none';\n",
              "\n",
              "        async function convertToInteractive(key) {\n",
              "          const element = document.querySelector('#df-f907d704-c741-4364-8ee0-3b79acf48969');\n",
              "          const dataTable =\n",
              "            await google.colab.kernel.invokeFunction('convertToInteractive',\n",
              "                                                     [key], {});\n",
              "          if (!dataTable) return;\n",
              "\n",
              "          const docLinkHtml = 'Like what you see? Visit the ' +\n",
              "            '<a target=\"_blank\" href=https://colab.research.google.com/notebooks/data_table.ipynb>data table notebook</a>'\n",
              "            + ' to learn more about interactive tables.';\n",
              "          element.innerHTML = '';\n",
              "          dataTable['output_type'] = 'display_data';\n",
              "          await google.colab.output.renderOutput(dataTable, element);\n",
              "          const docLink = document.createElement('div');\n",
              "          docLink.innerHTML = docLinkHtml;\n",
              "          element.appendChild(docLink);\n",
              "        }\n",
              "      </script>\n",
              "    </div>\n",
              "  </div>\n",
              "  "
            ]
          },
          "metadata": {},
          "execution_count": 12
        }
      ]
    },
    {
      "cell_type": "code",
      "source": [
        "df.to_csv(\"res.csv\", index=False)"
      ],
      "metadata": {
        "id": "uX39pfS_Exjl"
      },
      "execution_count": 13,
      "outputs": []
    },
    {
      "cell_type": "code",
      "source": [
        "# Sort the table based on code semantic similarity\n",
        "df.sort_values(\"code_sim\", ascending=False).reset_index(drop=True)"
      ],
      "metadata": {
        "id": "3hx2obhYbAmK",
        "colab": {
          "base_uri": "https://localhost:8080/",
          "height": 419
        },
        "outputId": "5b5d73f7-13f1-4670-8532-e61dca558b17"
      },
      "execution_count": 14,
      "outputs": [
        {
          "output_type": "execute_result",
          "data": {
            "text/plain": [
              "                            repo1                         repo2      topic1  \\\n",
              "0                 lepture/authlib                 idan/oauthlib       OAuth   \n",
              "1    evonove/django-oauth-toolkit                 idan/oauthlib       OAuth   \n",
              "2                 keon/algorithms          TheAlgorithms/Python  Algorithms   \n",
              "3                 lepture/authlib  evonove/django-oauth-toolkit       OAuth   \n",
              "4                   idan/oauthlib        joestump/python-oauth2       OAuth   \n",
              "..                            ...                           ...         ...   \n",
              "346            sergree/matchering       pennersr/django-allauth       Audio   \n",
              "347      tyiannak/pyAudioAnalysis       pennersr/django-allauth       Audio   \n",
              "348            jindaxiang/akshare                 s3tools/s3cmd  Downloader   \n",
              "349               librosa/librosa       pennersr/django-allauth       Audio   \n",
              "350            jindaxiang/akshare              bloomreach/s4cmd  Downloader   \n",
              "\n",
              "         topic2  code_sim   doc_sim  \n",
              "0         OAuth  0.936125  0.959024  \n",
              "1         OAuth  0.922530  0.932178  \n",
              "2    Algorithms  0.895993  0.900286  \n",
              "3         OAuth  0.891102  0.878009  \n",
              "4         OAuth  0.879883  0.919387  \n",
              "..          ...       ...       ...  \n",
              "346       OAuth -0.127733       NaN  \n",
              "347       OAuth -0.127950  0.253006  \n",
              "348  Downloader -0.128894  0.235784  \n",
              "349       OAuth -0.134879  0.254131  \n",
              "350  Downloader -0.171210  0.178415  \n",
              "\n",
              "[351 rows x 6 columns]"
            ],
            "text/html": [
              "\n",
              "  <div id=\"df-29835cc1-d860-4f05-8862-99b28b84b4c9\">\n",
              "    <div class=\"colab-df-container\">\n",
              "      <div>\n",
              "<style scoped>\n",
              "    .dataframe tbody tr th:only-of-type {\n",
              "        vertical-align: middle;\n",
              "    }\n",
              "\n",
              "    .dataframe tbody tr th {\n",
              "        vertical-align: top;\n",
              "    }\n",
              "\n",
              "    .dataframe thead th {\n",
              "        text-align: right;\n",
              "    }\n",
              "</style>\n",
              "<table border=\"1\" class=\"dataframe\">\n",
              "  <thead>\n",
              "    <tr style=\"text-align: right;\">\n",
              "      <th></th>\n",
              "      <th>repo1</th>\n",
              "      <th>repo2</th>\n",
              "      <th>topic1</th>\n",
              "      <th>topic2</th>\n",
              "      <th>code_sim</th>\n",
              "      <th>doc_sim</th>\n",
              "    </tr>\n",
              "  </thead>\n",
              "  <tbody>\n",
              "    <tr>\n",
              "      <th>0</th>\n",
              "      <td>lepture/authlib</td>\n",
              "      <td>idan/oauthlib</td>\n",
              "      <td>OAuth</td>\n",
              "      <td>OAuth</td>\n",
              "      <td>0.936125</td>\n",
              "      <td>0.959024</td>\n",
              "    </tr>\n",
              "    <tr>\n",
              "      <th>1</th>\n",
              "      <td>evonove/django-oauth-toolkit</td>\n",
              "      <td>idan/oauthlib</td>\n",
              "      <td>OAuth</td>\n",
              "      <td>OAuth</td>\n",
              "      <td>0.922530</td>\n",
              "      <td>0.932178</td>\n",
              "    </tr>\n",
              "    <tr>\n",
              "      <th>2</th>\n",
              "      <td>keon/algorithms</td>\n",
              "      <td>TheAlgorithms/Python</td>\n",
              "      <td>Algorithms</td>\n",
              "      <td>Algorithms</td>\n",
              "      <td>0.895993</td>\n",
              "      <td>0.900286</td>\n",
              "    </tr>\n",
              "    <tr>\n",
              "      <th>3</th>\n",
              "      <td>lepture/authlib</td>\n",
              "      <td>evonove/django-oauth-toolkit</td>\n",
              "      <td>OAuth</td>\n",
              "      <td>OAuth</td>\n",
              "      <td>0.891102</td>\n",
              "      <td>0.878009</td>\n",
              "    </tr>\n",
              "    <tr>\n",
              "      <th>4</th>\n",
              "      <td>idan/oauthlib</td>\n",
              "      <td>joestump/python-oauth2</td>\n",
              "      <td>OAuth</td>\n",
              "      <td>OAuth</td>\n",
              "      <td>0.879883</td>\n",
              "      <td>0.919387</td>\n",
              "    </tr>\n",
              "    <tr>\n",
              "      <th>...</th>\n",
              "      <td>...</td>\n",
              "      <td>...</td>\n",
              "      <td>...</td>\n",
              "      <td>...</td>\n",
              "      <td>...</td>\n",
              "      <td>...</td>\n",
              "    </tr>\n",
              "    <tr>\n",
              "      <th>346</th>\n",
              "      <td>sergree/matchering</td>\n",
              "      <td>pennersr/django-allauth</td>\n",
              "      <td>Audio</td>\n",
              "      <td>OAuth</td>\n",
              "      <td>-0.127733</td>\n",
              "      <td>NaN</td>\n",
              "    </tr>\n",
              "    <tr>\n",
              "      <th>347</th>\n",
              "      <td>tyiannak/pyAudioAnalysis</td>\n",
              "      <td>pennersr/django-allauth</td>\n",
              "      <td>Audio</td>\n",
              "      <td>OAuth</td>\n",
              "      <td>-0.127950</td>\n",
              "      <td>0.253006</td>\n",
              "    </tr>\n",
              "    <tr>\n",
              "      <th>348</th>\n",
              "      <td>jindaxiang/akshare</td>\n",
              "      <td>s3tools/s3cmd</td>\n",
              "      <td>Downloader</td>\n",
              "      <td>Downloader</td>\n",
              "      <td>-0.128894</td>\n",
              "      <td>0.235784</td>\n",
              "    </tr>\n",
              "    <tr>\n",
              "      <th>349</th>\n",
              "      <td>librosa/librosa</td>\n",
              "      <td>pennersr/django-allauth</td>\n",
              "      <td>Audio</td>\n",
              "      <td>OAuth</td>\n",
              "      <td>-0.134879</td>\n",
              "      <td>0.254131</td>\n",
              "    </tr>\n",
              "    <tr>\n",
              "      <th>350</th>\n",
              "      <td>jindaxiang/akshare</td>\n",
              "      <td>bloomreach/s4cmd</td>\n",
              "      <td>Downloader</td>\n",
              "      <td>Downloader</td>\n",
              "      <td>-0.171210</td>\n",
              "      <td>0.178415</td>\n",
              "    </tr>\n",
              "  </tbody>\n",
              "</table>\n",
              "<p>351 rows × 6 columns</p>\n",
              "</div>\n",
              "      <button class=\"colab-df-convert\" onclick=\"convertToInteractive('df-29835cc1-d860-4f05-8862-99b28b84b4c9')\"\n",
              "              title=\"Convert this dataframe to an interactive table.\"\n",
              "              style=\"display:none;\">\n",
              "        \n",
              "  <svg xmlns=\"http://www.w3.org/2000/svg\" height=\"24px\"viewBox=\"0 0 24 24\"\n",
              "       width=\"24px\">\n",
              "    <path d=\"M0 0h24v24H0V0z\" fill=\"none\"/>\n",
              "    <path d=\"M18.56 5.44l.94 2.06.94-2.06 2.06-.94-2.06-.94-.94-2.06-.94 2.06-2.06.94zm-11 1L8.5 8.5l.94-2.06 2.06-.94-2.06-.94L8.5 2.5l-.94 2.06-2.06.94zm10 10l.94 2.06.94-2.06 2.06-.94-2.06-.94-.94-2.06-.94 2.06-2.06.94z\"/><path d=\"M17.41 7.96l-1.37-1.37c-.4-.4-.92-.59-1.43-.59-.52 0-1.04.2-1.43.59L10.3 9.45l-7.72 7.72c-.78.78-.78 2.05 0 2.83L4 21.41c.39.39.9.59 1.41.59.51 0 1.02-.2 1.41-.59l7.78-7.78 2.81-2.81c.8-.78.8-2.07 0-2.86zM5.41 20L4 18.59l7.72-7.72 1.47 1.35L5.41 20z\"/>\n",
              "  </svg>\n",
              "      </button>\n",
              "      \n",
              "  <style>\n",
              "    .colab-df-container {\n",
              "      display:flex;\n",
              "      flex-wrap:wrap;\n",
              "      gap: 12px;\n",
              "    }\n",
              "\n",
              "    .colab-df-convert {\n",
              "      background-color: #E8F0FE;\n",
              "      border: none;\n",
              "      border-radius: 50%;\n",
              "      cursor: pointer;\n",
              "      display: none;\n",
              "      fill: #1967D2;\n",
              "      height: 32px;\n",
              "      padding: 0 0 0 0;\n",
              "      width: 32px;\n",
              "    }\n",
              "\n",
              "    .colab-df-convert:hover {\n",
              "      background-color: #E2EBFA;\n",
              "      box-shadow: 0px 1px 2px rgba(60, 64, 67, 0.3), 0px 1px 3px 1px rgba(60, 64, 67, 0.15);\n",
              "      fill: #174EA6;\n",
              "    }\n",
              "\n",
              "    [theme=dark] .colab-df-convert {\n",
              "      background-color: #3B4455;\n",
              "      fill: #D2E3FC;\n",
              "    }\n",
              "\n",
              "    [theme=dark] .colab-df-convert:hover {\n",
              "      background-color: #434B5C;\n",
              "      box-shadow: 0px 1px 3px 1px rgba(0, 0, 0, 0.15);\n",
              "      filter: drop-shadow(0px 1px 2px rgba(0, 0, 0, 0.3));\n",
              "      fill: #FFFFFF;\n",
              "    }\n",
              "  </style>\n",
              "\n",
              "      <script>\n",
              "        const buttonEl =\n",
              "          document.querySelector('#df-29835cc1-d860-4f05-8862-99b28b84b4c9 button.colab-df-convert');\n",
              "        buttonEl.style.display =\n",
              "          google.colab.kernel.accessAllowed ? 'block' : 'none';\n",
              "\n",
              "        async function convertToInteractive(key) {\n",
              "          const element = document.querySelector('#df-29835cc1-d860-4f05-8862-99b28b84b4c9');\n",
              "          const dataTable =\n",
              "            await google.colab.kernel.invokeFunction('convertToInteractive',\n",
              "                                                     [key], {});\n",
              "          if (!dataTable) return;\n",
              "\n",
              "          const docLinkHtml = 'Like what you see? Visit the ' +\n",
              "            '<a target=\"_blank\" href=https://colab.research.google.com/notebooks/data_table.ipynb>data table notebook</a>'\n",
              "            + ' to learn more about interactive tables.';\n",
              "          element.innerHTML = '';\n",
              "          dataTable['output_type'] = 'display_data';\n",
              "          await google.colab.output.renderOutput(dataTable, element);\n",
              "          const docLink = document.createElement('div');\n",
              "          docLink.innerHTML = docLinkHtml;\n",
              "          element.appendChild(docLink);\n",
              "        }\n",
              "      </script>\n",
              "    </div>\n",
              "  </div>\n",
              "  "
            ]
          },
          "metadata": {},
          "execution_count": 14
        }
      ]
    },
    {
      "cell_type": "code",
      "source": [
        "# Sort the table based on docstring semantic similarity\n",
        "df.sort_values(\"doc_sim\", ascending=False).reset_index(drop=True)"
      ],
      "metadata": {
        "colab": {
          "base_uri": "https://localhost:8080/",
          "height": 419
        },
        "id": "HJ5KN2pBUoZx",
        "outputId": "842b2ef7-e478-4266-b7fd-51b3d64f0f77"
      },
      "execution_count": 15,
      "outputs": [
        {
          "output_type": "execute_result",
          "data": {
            "text/plain": [
              "                            repo1                   repo2      topic1  \\\n",
              "0                 lepture/authlib           idan/oauthlib       OAuth   \n",
              "1    evonove/django-oauth-toolkit           idan/oauthlib       OAuth   \n",
              "2                   idan/oauthlib  joestump/python-oauth2       OAuth   \n",
              "3                 keon/algorithms    TheAlgorithms/Python  Algorithms   \n",
              "4                 lepture/authlib  joestump/python-oauth2       OAuth   \n",
              "..                            ...                     ...         ...   \n",
              "346            sergree/matchering        bloomreach/s4cmd       Audio   \n",
              "347            sergree/matchering          euske/pdfminer       Audio   \n",
              "348            sergree/matchering          mstamy2/PyPDF2       Audio   \n",
              "349            sergree/matchering         lepture/mistune       Audio   \n",
              "350            sergree/matchering  waylan/Python-Markdown       Audio   \n",
              "\n",
              "         topic2  code_sim   doc_sim  \n",
              "0         OAuth  0.936125  0.959024  \n",
              "1         OAuth  0.922530  0.932178  \n",
              "2         OAuth  0.879883  0.919387  \n",
              "3    Algorithms  0.895993  0.900286  \n",
              "4         OAuth  0.834853  0.899069  \n",
              "..          ...       ...       ...  \n",
              "346  Downloader  0.003936       NaN  \n",
              "347         PDF  0.147579       NaN  \n",
              "348         PDF  0.180949       NaN  \n",
              "349    Markdown  0.022897       NaN  \n",
              "350    Markdown  0.100483       NaN  \n",
              "\n",
              "[351 rows x 6 columns]"
            ],
            "text/html": [
              "\n",
              "  <div id=\"df-5a5f658a-07ce-4eb0-9412-a3e940a82a32\">\n",
              "    <div class=\"colab-df-container\">\n",
              "      <div>\n",
              "<style scoped>\n",
              "    .dataframe tbody tr th:only-of-type {\n",
              "        vertical-align: middle;\n",
              "    }\n",
              "\n",
              "    .dataframe tbody tr th {\n",
              "        vertical-align: top;\n",
              "    }\n",
              "\n",
              "    .dataframe thead th {\n",
              "        text-align: right;\n",
              "    }\n",
              "</style>\n",
              "<table border=\"1\" class=\"dataframe\">\n",
              "  <thead>\n",
              "    <tr style=\"text-align: right;\">\n",
              "      <th></th>\n",
              "      <th>repo1</th>\n",
              "      <th>repo2</th>\n",
              "      <th>topic1</th>\n",
              "      <th>topic2</th>\n",
              "      <th>code_sim</th>\n",
              "      <th>doc_sim</th>\n",
              "    </tr>\n",
              "  </thead>\n",
              "  <tbody>\n",
              "    <tr>\n",
              "      <th>0</th>\n",
              "      <td>lepture/authlib</td>\n",
              "      <td>idan/oauthlib</td>\n",
              "      <td>OAuth</td>\n",
              "      <td>OAuth</td>\n",
              "      <td>0.936125</td>\n",
              "      <td>0.959024</td>\n",
              "    </tr>\n",
              "    <tr>\n",
              "      <th>1</th>\n",
              "      <td>evonove/django-oauth-toolkit</td>\n",
              "      <td>idan/oauthlib</td>\n",
              "      <td>OAuth</td>\n",
              "      <td>OAuth</td>\n",
              "      <td>0.922530</td>\n",
              "      <td>0.932178</td>\n",
              "    </tr>\n",
              "    <tr>\n",
              "      <th>2</th>\n",
              "      <td>idan/oauthlib</td>\n",
              "      <td>joestump/python-oauth2</td>\n",
              "      <td>OAuth</td>\n",
              "      <td>OAuth</td>\n",
              "      <td>0.879883</td>\n",
              "      <td>0.919387</td>\n",
              "    </tr>\n",
              "    <tr>\n",
              "      <th>3</th>\n",
              "      <td>keon/algorithms</td>\n",
              "      <td>TheAlgorithms/Python</td>\n",
              "      <td>Algorithms</td>\n",
              "      <td>Algorithms</td>\n",
              "      <td>0.895993</td>\n",
              "      <td>0.900286</td>\n",
              "    </tr>\n",
              "    <tr>\n",
              "      <th>4</th>\n",
              "      <td>lepture/authlib</td>\n",
              "      <td>joestump/python-oauth2</td>\n",
              "      <td>OAuth</td>\n",
              "      <td>OAuth</td>\n",
              "      <td>0.834853</td>\n",
              "      <td>0.899069</td>\n",
              "    </tr>\n",
              "    <tr>\n",
              "      <th>...</th>\n",
              "      <td>...</td>\n",
              "      <td>...</td>\n",
              "      <td>...</td>\n",
              "      <td>...</td>\n",
              "      <td>...</td>\n",
              "      <td>...</td>\n",
              "    </tr>\n",
              "    <tr>\n",
              "      <th>346</th>\n",
              "      <td>sergree/matchering</td>\n",
              "      <td>bloomreach/s4cmd</td>\n",
              "      <td>Audio</td>\n",
              "      <td>Downloader</td>\n",
              "      <td>0.003936</td>\n",
              "      <td>NaN</td>\n",
              "    </tr>\n",
              "    <tr>\n",
              "      <th>347</th>\n",
              "      <td>sergree/matchering</td>\n",
              "      <td>euske/pdfminer</td>\n",
              "      <td>Audio</td>\n",
              "      <td>PDF</td>\n",
              "      <td>0.147579</td>\n",
              "      <td>NaN</td>\n",
              "    </tr>\n",
              "    <tr>\n",
              "      <th>348</th>\n",
              "      <td>sergree/matchering</td>\n",
              "      <td>mstamy2/PyPDF2</td>\n",
              "      <td>Audio</td>\n",
              "      <td>PDF</td>\n",
              "      <td>0.180949</td>\n",
              "      <td>NaN</td>\n",
              "    </tr>\n",
              "    <tr>\n",
              "      <th>349</th>\n",
              "      <td>sergree/matchering</td>\n",
              "      <td>lepture/mistune</td>\n",
              "      <td>Audio</td>\n",
              "      <td>Markdown</td>\n",
              "      <td>0.022897</td>\n",
              "      <td>NaN</td>\n",
              "    </tr>\n",
              "    <tr>\n",
              "      <th>350</th>\n",
              "      <td>sergree/matchering</td>\n",
              "      <td>waylan/Python-Markdown</td>\n",
              "      <td>Audio</td>\n",
              "      <td>Markdown</td>\n",
              "      <td>0.100483</td>\n",
              "      <td>NaN</td>\n",
              "    </tr>\n",
              "  </tbody>\n",
              "</table>\n",
              "<p>351 rows × 6 columns</p>\n",
              "</div>\n",
              "      <button class=\"colab-df-convert\" onclick=\"convertToInteractive('df-5a5f658a-07ce-4eb0-9412-a3e940a82a32')\"\n",
              "              title=\"Convert this dataframe to an interactive table.\"\n",
              "              style=\"display:none;\">\n",
              "        \n",
              "  <svg xmlns=\"http://www.w3.org/2000/svg\" height=\"24px\"viewBox=\"0 0 24 24\"\n",
              "       width=\"24px\">\n",
              "    <path d=\"M0 0h24v24H0V0z\" fill=\"none\"/>\n",
              "    <path d=\"M18.56 5.44l.94 2.06.94-2.06 2.06-.94-2.06-.94-.94-2.06-.94 2.06-2.06.94zm-11 1L8.5 8.5l.94-2.06 2.06-.94-2.06-.94L8.5 2.5l-.94 2.06-2.06.94zm10 10l.94 2.06.94-2.06 2.06-.94-2.06-.94-.94-2.06-.94 2.06-2.06.94z\"/><path d=\"M17.41 7.96l-1.37-1.37c-.4-.4-.92-.59-1.43-.59-.52 0-1.04.2-1.43.59L10.3 9.45l-7.72 7.72c-.78.78-.78 2.05 0 2.83L4 21.41c.39.39.9.59 1.41.59.51 0 1.02-.2 1.41-.59l7.78-7.78 2.81-2.81c.8-.78.8-2.07 0-2.86zM5.41 20L4 18.59l7.72-7.72 1.47 1.35L5.41 20z\"/>\n",
              "  </svg>\n",
              "      </button>\n",
              "      \n",
              "  <style>\n",
              "    .colab-df-container {\n",
              "      display:flex;\n",
              "      flex-wrap:wrap;\n",
              "      gap: 12px;\n",
              "    }\n",
              "\n",
              "    .colab-df-convert {\n",
              "      background-color: #E8F0FE;\n",
              "      border: none;\n",
              "      border-radius: 50%;\n",
              "      cursor: pointer;\n",
              "      display: none;\n",
              "      fill: #1967D2;\n",
              "      height: 32px;\n",
              "      padding: 0 0 0 0;\n",
              "      width: 32px;\n",
              "    }\n",
              "\n",
              "    .colab-df-convert:hover {\n",
              "      background-color: #E2EBFA;\n",
              "      box-shadow: 0px 1px 2px rgba(60, 64, 67, 0.3), 0px 1px 3px 1px rgba(60, 64, 67, 0.15);\n",
              "      fill: #174EA6;\n",
              "    }\n",
              "\n",
              "    [theme=dark] .colab-df-convert {\n",
              "      background-color: #3B4455;\n",
              "      fill: #D2E3FC;\n",
              "    }\n",
              "\n",
              "    [theme=dark] .colab-df-convert:hover {\n",
              "      background-color: #434B5C;\n",
              "      box-shadow: 0px 1px 3px 1px rgba(0, 0, 0, 0.15);\n",
              "      filter: drop-shadow(0px 1px 2px rgba(0, 0, 0, 0.3));\n",
              "      fill: #FFFFFF;\n",
              "    }\n",
              "  </style>\n",
              "\n",
              "      <script>\n",
              "        const buttonEl =\n",
              "          document.querySelector('#df-5a5f658a-07ce-4eb0-9412-a3e940a82a32 button.colab-df-convert');\n",
              "        buttonEl.style.display =\n",
              "          google.colab.kernel.accessAllowed ? 'block' : 'none';\n",
              "\n",
              "        async function convertToInteractive(key) {\n",
              "          const element = document.querySelector('#df-5a5f658a-07ce-4eb0-9412-a3e940a82a32');\n",
              "          const dataTable =\n",
              "            await google.colab.kernel.invokeFunction('convertToInteractive',\n",
              "                                                     [key], {});\n",
              "          if (!dataTable) return;\n",
              "\n",
              "          const docLinkHtml = 'Like what you see? Visit the ' +\n",
              "            '<a target=\"_blank\" href=https://colab.research.google.com/notebooks/data_table.ipynb>data table notebook</a>'\n",
              "            + ' to learn more about interactive tables.';\n",
              "          element.innerHTML = '';\n",
              "          dataTable['output_type'] = 'display_data';\n",
              "          await google.colab.output.renderOutput(dataTable, element);\n",
              "          const docLink = document.createElement('div');\n",
              "          docLink.innerHTML = docLinkHtml;\n",
              "          element.appendChild(docLink);\n",
              "        }\n",
              "      </script>\n",
              "    </div>\n",
              "  </div>\n",
              "  "
            ]
          },
          "metadata": {},
          "execution_count": 15
        }
      ]
    },
    {
      "cell_type": "code",
      "source": [
        "# Sort the table based on the sum of code and docstring similarities\n",
        "df[\"sim_sum\"] = df[\"code_sim\"] + df[\"doc_sim\"]\n",
        "df.sort_values(\"sim_sum\", ascending=False).reset_index(drop=True)"
      ],
      "metadata": {
        "colab": {
          "base_uri": "https://localhost:8080/",
          "height": 419
        },
        "id": "UTmCstl1VDn8",
        "outputId": "d0532ffb-9752-4243-9b47-8d104039b8c9"
      },
      "execution_count": 18,
      "outputs": [
        {
          "output_type": "execute_result",
          "data": {
            "text/plain": [
              "                            repo1                         repo2      topic1  \\\n",
              "0                 lepture/authlib                 idan/oauthlib       OAuth   \n",
              "1    evonove/django-oauth-toolkit                 idan/oauthlib       OAuth   \n",
              "2                   idan/oauthlib        joestump/python-oauth2       OAuth   \n",
              "3                 keon/algorithms          TheAlgorithms/Python  Algorithms   \n",
              "4                 lepture/authlib  evonove/django-oauth-toolkit       OAuth   \n",
              "..                            ...                           ...         ...   \n",
              "346            sergree/matchering              bloomreach/s4cmd       Audio   \n",
              "347            sergree/matchering                euske/pdfminer       Audio   \n",
              "348            sergree/matchering                mstamy2/PyPDF2       Audio   \n",
              "349            sergree/matchering               lepture/mistune       Audio   \n",
              "350            sergree/matchering        waylan/Python-Markdown       Audio   \n",
              "\n",
              "         topic2  code_sim   doc_sim   sim_sum  \n",
              "0         OAuth  0.936125  0.959024  1.895149  \n",
              "1         OAuth  0.922530  0.932178  1.854708  \n",
              "2         OAuth  0.879883  0.919387  1.799270  \n",
              "3    Algorithms  0.895993  0.900286  1.796279  \n",
              "4         OAuth  0.891102  0.878009  1.769111  \n",
              "..          ...       ...       ...       ...  \n",
              "346  Downloader  0.003936       NaN       NaN  \n",
              "347         PDF  0.147579       NaN       NaN  \n",
              "348         PDF  0.180949       NaN       NaN  \n",
              "349    Markdown  0.022897       NaN       NaN  \n",
              "350    Markdown  0.100483       NaN       NaN  \n",
              "\n",
              "[351 rows x 7 columns]"
            ],
            "text/html": [
              "\n",
              "  <div id=\"df-0869ce53-7535-4490-a090-110d4d3c4279\">\n",
              "    <div class=\"colab-df-container\">\n",
              "      <div>\n",
              "<style scoped>\n",
              "    .dataframe tbody tr th:only-of-type {\n",
              "        vertical-align: middle;\n",
              "    }\n",
              "\n",
              "    .dataframe tbody tr th {\n",
              "        vertical-align: top;\n",
              "    }\n",
              "\n",
              "    .dataframe thead th {\n",
              "        text-align: right;\n",
              "    }\n",
              "</style>\n",
              "<table border=\"1\" class=\"dataframe\">\n",
              "  <thead>\n",
              "    <tr style=\"text-align: right;\">\n",
              "      <th></th>\n",
              "      <th>repo1</th>\n",
              "      <th>repo2</th>\n",
              "      <th>topic1</th>\n",
              "      <th>topic2</th>\n",
              "      <th>code_sim</th>\n",
              "      <th>doc_sim</th>\n",
              "      <th>sim_sum</th>\n",
              "    </tr>\n",
              "  </thead>\n",
              "  <tbody>\n",
              "    <tr>\n",
              "      <th>0</th>\n",
              "      <td>lepture/authlib</td>\n",
              "      <td>idan/oauthlib</td>\n",
              "      <td>OAuth</td>\n",
              "      <td>OAuth</td>\n",
              "      <td>0.936125</td>\n",
              "      <td>0.959024</td>\n",
              "      <td>1.895149</td>\n",
              "    </tr>\n",
              "    <tr>\n",
              "      <th>1</th>\n",
              "      <td>evonove/django-oauth-toolkit</td>\n",
              "      <td>idan/oauthlib</td>\n",
              "      <td>OAuth</td>\n",
              "      <td>OAuth</td>\n",
              "      <td>0.922530</td>\n",
              "      <td>0.932178</td>\n",
              "      <td>1.854708</td>\n",
              "    </tr>\n",
              "    <tr>\n",
              "      <th>2</th>\n",
              "      <td>idan/oauthlib</td>\n",
              "      <td>joestump/python-oauth2</td>\n",
              "      <td>OAuth</td>\n",
              "      <td>OAuth</td>\n",
              "      <td>0.879883</td>\n",
              "      <td>0.919387</td>\n",
              "      <td>1.799270</td>\n",
              "    </tr>\n",
              "    <tr>\n",
              "      <th>3</th>\n",
              "      <td>keon/algorithms</td>\n",
              "      <td>TheAlgorithms/Python</td>\n",
              "      <td>Algorithms</td>\n",
              "      <td>Algorithms</td>\n",
              "      <td>0.895993</td>\n",
              "      <td>0.900286</td>\n",
              "      <td>1.796279</td>\n",
              "    </tr>\n",
              "    <tr>\n",
              "      <th>4</th>\n",
              "      <td>lepture/authlib</td>\n",
              "      <td>evonove/django-oauth-toolkit</td>\n",
              "      <td>OAuth</td>\n",
              "      <td>OAuth</td>\n",
              "      <td>0.891102</td>\n",
              "      <td>0.878009</td>\n",
              "      <td>1.769111</td>\n",
              "    </tr>\n",
              "    <tr>\n",
              "      <th>...</th>\n",
              "      <td>...</td>\n",
              "      <td>...</td>\n",
              "      <td>...</td>\n",
              "      <td>...</td>\n",
              "      <td>...</td>\n",
              "      <td>...</td>\n",
              "      <td>...</td>\n",
              "    </tr>\n",
              "    <tr>\n",
              "      <th>346</th>\n",
              "      <td>sergree/matchering</td>\n",
              "      <td>bloomreach/s4cmd</td>\n",
              "      <td>Audio</td>\n",
              "      <td>Downloader</td>\n",
              "      <td>0.003936</td>\n",
              "      <td>NaN</td>\n",
              "      <td>NaN</td>\n",
              "    </tr>\n",
              "    <tr>\n",
              "      <th>347</th>\n",
              "      <td>sergree/matchering</td>\n",
              "      <td>euske/pdfminer</td>\n",
              "      <td>Audio</td>\n",
              "      <td>PDF</td>\n",
              "      <td>0.147579</td>\n",
              "      <td>NaN</td>\n",
              "      <td>NaN</td>\n",
              "    </tr>\n",
              "    <tr>\n",
              "      <th>348</th>\n",
              "      <td>sergree/matchering</td>\n",
              "      <td>mstamy2/PyPDF2</td>\n",
              "      <td>Audio</td>\n",
              "      <td>PDF</td>\n",
              "      <td>0.180949</td>\n",
              "      <td>NaN</td>\n",
              "      <td>NaN</td>\n",
              "    </tr>\n",
              "    <tr>\n",
              "      <th>349</th>\n",
              "      <td>sergree/matchering</td>\n",
              "      <td>lepture/mistune</td>\n",
              "      <td>Audio</td>\n",
              "      <td>Markdown</td>\n",
              "      <td>0.022897</td>\n",
              "      <td>NaN</td>\n",
              "      <td>NaN</td>\n",
              "    </tr>\n",
              "    <tr>\n",
              "      <th>350</th>\n",
              "      <td>sergree/matchering</td>\n",
              "      <td>waylan/Python-Markdown</td>\n",
              "      <td>Audio</td>\n",
              "      <td>Markdown</td>\n",
              "      <td>0.100483</td>\n",
              "      <td>NaN</td>\n",
              "      <td>NaN</td>\n",
              "    </tr>\n",
              "  </tbody>\n",
              "</table>\n",
              "<p>351 rows × 7 columns</p>\n",
              "</div>\n",
              "      <button class=\"colab-df-convert\" onclick=\"convertToInteractive('df-0869ce53-7535-4490-a090-110d4d3c4279')\"\n",
              "              title=\"Convert this dataframe to an interactive table.\"\n",
              "              style=\"display:none;\">\n",
              "        \n",
              "  <svg xmlns=\"http://www.w3.org/2000/svg\" height=\"24px\"viewBox=\"0 0 24 24\"\n",
              "       width=\"24px\">\n",
              "    <path d=\"M0 0h24v24H0V0z\" fill=\"none\"/>\n",
              "    <path d=\"M18.56 5.44l.94 2.06.94-2.06 2.06-.94-2.06-.94-.94-2.06-.94 2.06-2.06.94zm-11 1L8.5 8.5l.94-2.06 2.06-.94-2.06-.94L8.5 2.5l-.94 2.06-2.06.94zm10 10l.94 2.06.94-2.06 2.06-.94-2.06-.94-.94-2.06-.94 2.06-2.06.94z\"/><path d=\"M17.41 7.96l-1.37-1.37c-.4-.4-.92-.59-1.43-.59-.52 0-1.04.2-1.43.59L10.3 9.45l-7.72 7.72c-.78.78-.78 2.05 0 2.83L4 21.41c.39.39.9.59 1.41.59.51 0 1.02-.2 1.41-.59l7.78-7.78 2.81-2.81c.8-.78.8-2.07 0-2.86zM5.41 20L4 18.59l7.72-7.72 1.47 1.35L5.41 20z\"/>\n",
              "  </svg>\n",
              "      </button>\n",
              "      \n",
              "  <style>\n",
              "    .colab-df-container {\n",
              "      display:flex;\n",
              "      flex-wrap:wrap;\n",
              "      gap: 12px;\n",
              "    }\n",
              "\n",
              "    .colab-df-convert {\n",
              "      background-color: #E8F0FE;\n",
              "      border: none;\n",
              "      border-radius: 50%;\n",
              "      cursor: pointer;\n",
              "      display: none;\n",
              "      fill: #1967D2;\n",
              "      height: 32px;\n",
              "      padding: 0 0 0 0;\n",
              "      width: 32px;\n",
              "    }\n",
              "\n",
              "    .colab-df-convert:hover {\n",
              "      background-color: #E2EBFA;\n",
              "      box-shadow: 0px 1px 2px rgba(60, 64, 67, 0.3), 0px 1px 3px 1px rgba(60, 64, 67, 0.15);\n",
              "      fill: #174EA6;\n",
              "    }\n",
              "\n",
              "    [theme=dark] .colab-df-convert {\n",
              "      background-color: #3B4455;\n",
              "      fill: #D2E3FC;\n",
              "    }\n",
              "\n",
              "    [theme=dark] .colab-df-convert:hover {\n",
              "      background-color: #434B5C;\n",
              "      box-shadow: 0px 1px 3px 1px rgba(0, 0, 0, 0.15);\n",
              "      filter: drop-shadow(0px 1px 2px rgba(0, 0, 0, 0.3));\n",
              "      fill: #FFFFFF;\n",
              "    }\n",
              "  </style>\n",
              "\n",
              "      <script>\n",
              "        const buttonEl =\n",
              "          document.querySelector('#df-0869ce53-7535-4490-a090-110d4d3c4279 button.colab-df-convert');\n",
              "        buttonEl.style.display =\n",
              "          google.colab.kernel.accessAllowed ? 'block' : 'none';\n",
              "\n",
              "        async function convertToInteractive(key) {\n",
              "          const element = document.querySelector('#df-0869ce53-7535-4490-a090-110d4d3c4279');\n",
              "          const dataTable =\n",
              "            await google.colab.kernel.invokeFunction('convertToInteractive',\n",
              "                                                     [key], {});\n",
              "          if (!dataTable) return;\n",
              "\n",
              "          const docLinkHtml = 'Like what you see? Visit the ' +\n",
              "            '<a target=\"_blank\" href=https://colab.research.google.com/notebooks/data_table.ipynb>data table notebook</a>'\n",
              "            + ' to learn more about interactive tables.';\n",
              "          element.innerHTML = '';\n",
              "          dataTable['output_type'] = 'display_data';\n",
              "          await google.colab.output.renderOutput(dataTable, element);\n",
              "          const docLink = document.createElement('div');\n",
              "          docLink.innerHTML = docLinkHtml;\n",
              "          element.appendChild(docLink);\n",
              "        }\n",
              "      </script>\n",
              "    </div>\n",
              "  </div>\n",
              "  "
            ]
          },
          "metadata": {},
          "execution_count": 18
        }
      ]
    }
  ]
}