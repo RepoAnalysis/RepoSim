{
  "nbformat": 4,
  "nbformat_minor": 0,
  "metadata": {
    "colab": {
      "provenance": [],
      "authorship_tag": "ABX9TyM9TEZfmsWccP9FsQxEqs4n",
      "include_colab_link": true
    },
    "kernelspec": {
      "name": "python3",
      "display_name": "Python 3"
    },
    "language_info": {
      "name": "python"
    },
    "accelerator": "GPU",
    "gpuClass": "standard"
  },
  "cells": [
    {
      "cell_type": "markdown",
      "metadata": {
        "id": "view-in-github",
        "colab_type": "text"
      },
      "source": [
        "<a href=\"https://colab.research.google.com/github/RepoAnalysis/RepoSim/blob/main/Clone_Detection_C4_Evaluation.ipynb\" target=\"_parent\"><img src=\"https://colab.research.google.com/assets/colab-badge.svg\" alt=\"Open In Colab\"/></a>"
      ]
    },
    {
      "cell_type": "markdown",
      "source": [
        "### Download the clone detection repository and install requirements"
      ],
      "metadata": {
        "id": "1b-2oVYmffWD"
      }
    },
    {
      "cell_type": "code",
      "execution_count": null,
      "metadata": {
        "id": "a9QpXY8SfRkE"
      },
      "outputs": [],
      "source": [
        "!git clone https://github.com/RepoAnalysis/PythonCloneDetection\n",
        "!pip install -r PythonCloneDetection/requirements.txt\n",
        "\n",
        "%cd PythonCloneDetection"
      ]
    },
    {
      "cell_type": "markdown",
      "source": [
        "### Perform model inference on the [C4 dataset](https://github.com/Chenning-Tao/C4/tree/main/dataset)"
      ],
      "metadata": {
        "id": "b88CWOhMhAQK"
      }
    },
    {
      "cell_type": "code",
      "source": [
        "import pandas as pd\n",
        "from clone_classifier import CloneClassifier\n",
        "\n",
        "\n",
        "classifier = CloneClassifier(fp16=True)\n",
        "\n",
        "df = pd.read_csv(\"examples/c4.csv\")\n",
        "res_df = classifier.predict(df[[\"code1\", \"code2\"]]) # The result is stored in https://github.com/RepoAnalysis/PythonCloneDetection/blob/main/results/res.csv"
      ],
      "metadata": {
        "id": "BvUmYvFCgM1g"
      },
      "execution_count": null,
      "outputs": []
    },
    {
      "cell_type": "markdown",
      "source": [
        "### Evaluation"
      ],
      "metadata": {
        "id": "3MFfkQwlkyYH"
      }
    },
    {
      "cell_type": "code",
      "source": [
        "from sklearn.metrics import recall_score, precision_score, f1_score\n",
        "\n",
        "\n",
        "y_true = df[\"similar\"]\n",
        "y_pred = res_df[\"predictions\"]\n",
        "\n",
        "print(f\"Recall: {recall_score(y_true, y_pred)}\")\n",
        "print(f\"Precision: {precision_score(y_true, y_pred)}\")\n",
        "print(f\"F1: {f1_score(y_true, y_pred)}\")"
      ],
      "metadata": {
        "colab": {
          "base_uri": "https://localhost:8080/"
        },
        "id": "jci7y2mXjOBx",
        "outputId": "1548bb33-9c35-4289-9dae-725e5b47f174"
      },
      "execution_count": null,
      "outputs": [
        {
          "output_type": "stream",
          "name": "stdout",
          "text": [
            "Recall: 0.9642440163455925\n",
            "Precision: 0.97563496751329\n",
            "F1: 0.969906048150323\n"
          ]
        }
      ]
    }
  ]
}